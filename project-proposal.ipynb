{
 "cells": [
  {
   "cell_type": "markdown",
   "id": "7dc09c6e-7077-4d65-8b9f-18b6523d0721",
   "metadata": {},
   "source": [
    "# Preliminary Results"
   ]
  },
  {
   "cell_type": "markdown",
   "id": "33848774-d676-4d50-a016-657acd6282fe",
   "metadata": {},
   "source": [
    "## Load Libraries"
   ]
  },
  {
   "cell_type": "code",
   "execution_count": 7,
   "id": "75fc5472-76e4-4e7a-a5d6-032c943313ba",
   "metadata": {},
   "outputs": [],
   "source": [
    "library(tidyverse)\n",
    "library(repr)\n",
    "library(digest)\n",
    "library(infer)\n",
    "library(gridExtra)\n",
    "suppressWarnings(library(cowplot))"
   ]
  },
  {
   "cell_type": "markdown",
   "id": "049dad31-f96c-432a-b277-862930e7306d",
   "metadata": {},
   "source": [
    "## Data Intake and Pre-Processing"
   ]
  },
  {
   "cell_type": "markdown",
   "id": "f00adcde-75e8-4aa6-bb57-49ea111a77ce",
   "metadata": {},
   "source": [
    "<mark>TODO</mark>: insert some text to explain what we are doing"
   ]
  },
  {
   "cell_type": "code",
   "execution_count": 8,
   "id": "2716a1ca-b751-49f0-a8de-6b3a277a0a43",
   "metadata": {},
   "outputs": [],
   "source": [
    "data <- read.csv(file = \"data/athlete_events.csv\")"
   ]
  },
  {
   "cell_type": "code",
   "execution_count": 9,
   "id": "b72761a0-c9f8-409c-8aeb-54976ffb0153",
   "metadata": {},
   "outputs": [
    {
     "data": {
      "text/html": [
       "<table class=\"dataframe\">\n",
       "<caption>A data.frame: 6 × 15</caption>\n",
       "<thead>\n",
       "\t<tr><th></th><th scope=col>ID</th><th scope=col>Name</th><th scope=col>Sex</th><th scope=col>Age</th><th scope=col>Height</th><th scope=col>Weight</th><th scope=col>Team</th><th scope=col>NOC</th><th scope=col>Games</th><th scope=col>Year</th><th scope=col>Season</th><th scope=col>City</th><th scope=col>Sport</th><th scope=col>Event</th><th scope=col>Medal</th></tr>\n",
       "\t<tr><th></th><th scope=col>&lt;int&gt;</th><th scope=col>&lt;chr&gt;</th><th scope=col>&lt;chr&gt;</th><th scope=col>&lt;int&gt;</th><th scope=col>&lt;int&gt;</th><th scope=col>&lt;dbl&gt;</th><th scope=col>&lt;chr&gt;</th><th scope=col>&lt;chr&gt;</th><th scope=col>&lt;chr&gt;</th><th scope=col>&lt;int&gt;</th><th scope=col>&lt;chr&gt;</th><th scope=col>&lt;chr&gt;</th><th scope=col>&lt;chr&gt;</th><th scope=col>&lt;chr&gt;</th><th scope=col>&lt;chr&gt;</th></tr>\n",
       "</thead>\n",
       "<tbody>\n",
       "\t<tr><th scope=row>1</th><td>12068</td><td>Arthur Charles Blake       </td><td>M</td><td>24</td><td> NA</td><td>NA</td><td>United States</td><td>USA</td><td>1896 Summer</td><td>1896</td><td>Summer</td><td>Athina</td><td>Athletics </td><td>Athletics Men's 1,500 metres  </td><td>Silver</td></tr>\n",
       "\t<tr><th scope=row>3</th><td>12563</td><td>Conrad Helmut Fritz Bcker  </td><td>M</td><td>25</td><td> NA</td><td>NA</td><td>Germany      </td><td>GER</td><td>1896 Summer</td><td>1896</td><td>Summer</td><td>Athina</td><td>Gymnastics</td><td>Gymnastics Men's Horse Vault  </td><td>NA    </td></tr>\n",
       "\t<tr><th scope=row>10</th><td>12929</td><td>John Mary Pius Boland      </td><td>M</td><td>25</td><td> NA</td><td>NA</td><td>Great Britain</td><td>GBR</td><td>1896 Summer</td><td>1896</td><td>Summer</td><td>Athina</td><td>Tennis    </td><td>Tennis Men's Singles          </td><td>Gold  </td></tr>\n",
       "\t<tr><th scope=row>12</th><td>16616</td><td>Thomas Edmund \"Tom\" Burke  </td><td>M</td><td>21</td><td>183</td><td>66</td><td>United States</td><td>USA</td><td>1896 Summer</td><td>1896</td><td>Summer</td><td>Athina</td><td>Athletics </td><td>Athletics Men's 100 metres    </td><td>Gold  </td></tr>\n",
       "\t<tr><th scope=row>14</th><td>17492</td><td>Eugne Henri Callot         </td><td>M</td><td>20</td><td> NA</td><td>NA</td><td>France       </td><td>FRA</td><td>1896 Summer</td><td>1896</td><td>Summer</td><td>Athina</td><td>Fencing   </td><td>Fencing Men's Foil, Individual</td><td>Silver</td></tr>\n",
       "\t<tr><th scope=row>15</th><td>18785</td><td>Demetrius Emmanuel Casdagli</td><td>M</td><td>23</td><td> NA</td><td>NA</td><td>Greece       </td><td>GRE</td><td>1896 Summer</td><td>1896</td><td>Summer</td><td>Athina</td><td>Tennis    </td><td>Tennis Men's Singles          </td><td>Silver</td></tr>\n",
       "</tbody>\n",
       "</table>\n"
      ],
      "text/latex": [
       "A data.frame: 6 × 15\n",
       "\\begin{tabular}{r|lllllllllllllll}\n",
       "  & ID & Name & Sex & Age & Height & Weight & Team & NOC & Games & Year & Season & City & Sport & Event & Medal\\\\\n",
       "  & <int> & <chr> & <chr> & <int> & <int> & <dbl> & <chr> & <chr> & <chr> & <int> & <chr> & <chr> & <chr> & <chr> & <chr>\\\\\n",
       "\\hline\n",
       "\t1 & 12068 & Arthur Charles Blake        & M & 24 &  NA & NA & United States & USA & 1896 Summer & 1896 & Summer & Athina & Athletics  & Athletics Men's 1,500 metres   & Silver\\\\\n",
       "\t3 & 12563 & Conrad Helmut Fritz Bcker   & M & 25 &  NA & NA & Germany       & GER & 1896 Summer & 1896 & Summer & Athina & Gymnastics & Gymnastics Men's Horse Vault   & NA    \\\\\n",
       "\t10 & 12929 & John Mary Pius Boland       & M & 25 &  NA & NA & Great Britain & GBR & 1896 Summer & 1896 & Summer & Athina & Tennis     & Tennis Men's Singles           & Gold  \\\\\n",
       "\t12 & 16616 & Thomas Edmund \"Tom\" Burke   & M & 21 & 183 & 66 & United States & USA & 1896 Summer & 1896 & Summer & Athina & Athletics  & Athletics Men's 100 metres     & Gold  \\\\\n",
       "\t14 & 17492 & Eugne Henri Callot          & M & 20 &  NA & NA & France        & FRA & 1896 Summer & 1896 & Summer & Athina & Fencing    & Fencing Men's Foil, Individual & Silver\\\\\n",
       "\t15 & 18785 & Demetrius Emmanuel Casdagli & M & 23 &  NA & NA & Greece        & GRE & 1896 Summer & 1896 & Summer & Athina & Tennis     & Tennis Men's Singles           & Silver\\\\\n",
       "\\end{tabular}\n"
      ],
      "text/markdown": [
       "\n",
       "A data.frame: 6 × 15\n",
       "\n",
       "| <!--/--> | ID &lt;int&gt; | Name &lt;chr&gt; | Sex &lt;chr&gt; | Age &lt;int&gt; | Height &lt;int&gt; | Weight &lt;dbl&gt; | Team &lt;chr&gt; | NOC &lt;chr&gt; | Games &lt;chr&gt; | Year &lt;int&gt; | Season &lt;chr&gt; | City &lt;chr&gt; | Sport &lt;chr&gt; | Event &lt;chr&gt; | Medal &lt;chr&gt; |\n",
       "|---|---|---|---|---|---|---|---|---|---|---|---|---|---|---|---|\n",
       "| 1 | 12068 | Arthur Charles Blake        | M | 24 |  NA | NA | United States | USA | 1896 Summer | 1896 | Summer | Athina | Athletics  | Athletics Men's 1,500 metres   | Silver |\n",
       "| 3 | 12563 | Conrad Helmut Fritz Bcker   | M | 25 |  NA | NA | Germany       | GER | 1896 Summer | 1896 | Summer | Athina | Gymnastics | Gymnastics Men's Horse Vault   | NA     |\n",
       "| 10 | 12929 | John Mary Pius Boland       | M | 25 |  NA | NA | Great Britain | GBR | 1896 Summer | 1896 | Summer | Athina | Tennis     | Tennis Men's Singles           | Gold   |\n",
       "| 12 | 16616 | Thomas Edmund \"Tom\" Burke   | M | 21 | 183 | 66 | United States | USA | 1896 Summer | 1896 | Summer | Athina | Athletics  | Athletics Men's 100 metres     | Gold   |\n",
       "| 14 | 17492 | Eugne Henri Callot          | M | 20 |  NA | NA | France        | FRA | 1896 Summer | 1896 | Summer | Athina | Fencing    | Fencing Men's Foil, Individual | Silver |\n",
       "| 15 | 18785 | Demetrius Emmanuel Casdagli | M | 23 |  NA | NA | Greece        | GRE | 1896 Summer | 1896 | Summer | Athina | Tennis     | Tennis Men's Singles           | Silver |\n",
       "\n"
      ],
      "text/plain": [
       "   ID    Name                        Sex Age Height Weight Team          NOC\n",
       "1  12068 Arthur Charles Blake        M   24   NA    NA     United States USA\n",
       "3  12563 Conrad Helmut Fritz Bcker   M   25   NA    NA     Germany       GER\n",
       "10 12929 John Mary Pius Boland       M   25   NA    NA     Great Britain GBR\n",
       "12 16616 Thomas Edmund \"Tom\" Burke   M   21  183    66     United States USA\n",
       "14 17492 Eugne Henri Callot          M   20   NA    NA     France        FRA\n",
       "15 18785 Demetrius Emmanuel Casdagli M   23   NA    NA     Greece        GRE\n",
       "   Games       Year Season City   Sport      Event                         \n",
       "1  1896 Summer 1896 Summer Athina Athletics  Athletics Men's 1,500 metres  \n",
       "3  1896 Summer 1896 Summer Athina Gymnastics Gymnastics Men's Horse Vault  \n",
       "10 1896 Summer 1896 Summer Athina Tennis     Tennis Men's Singles          \n",
       "12 1896 Summer 1896 Summer Athina Athletics  Athletics Men's 100 metres    \n",
       "14 1896 Summer 1896 Summer Athina Fencing    Fencing Men's Foil, Individual\n",
       "15 1896 Summer 1896 Summer Athina Tennis     Tennis Men's Singles          \n",
       "   Medal \n",
       "1  Silver\n",
       "3  NA    \n",
       "10 Gold  \n",
       "12 Gold  \n",
       "14 Silver\n",
       "15 Silver"
      ]
     },
     "metadata": {},
     "output_type": "display_data"
    },
    {
     "data": {
      "text/html": [
       "<table class=\"dataframe\">\n",
       "<caption>A data.frame: 6 × 15</caption>\n",
       "<thead>\n",
       "\t<tr><th></th><th scope=col>ID</th><th scope=col>Name</th><th scope=col>Sex</th><th scope=col>Age</th><th scope=col>Height</th><th scope=col>Weight</th><th scope=col>Team</th><th scope=col>NOC</th><th scope=col>Games</th><th scope=col>Year</th><th scope=col>Season</th><th scope=col>City</th><th scope=col>Sport</th><th scope=col>Event</th><th scope=col>Medal</th></tr>\n",
       "\t<tr><th></th><th scope=col>&lt;int&gt;</th><th scope=col>&lt;chr&gt;</th><th scope=col>&lt;chr&gt;</th><th scope=col>&lt;int&gt;</th><th scope=col>&lt;int&gt;</th><th scope=col>&lt;dbl&gt;</th><th scope=col>&lt;chr&gt;</th><th scope=col>&lt;chr&gt;</th><th scope=col>&lt;chr&gt;</th><th scope=col>&lt;int&gt;</th><th scope=col>&lt;chr&gt;</th><th scope=col>&lt;chr&gt;</th><th scope=col>&lt;chr&gt;</th><th scope=col>&lt;chr&gt;</th><th scope=col>&lt;chr&gt;</th></tr>\n",
       "</thead>\n",
       "<tbody>\n",
       "\t<tr><th scope=row>1</th><td> 391</td><td>Clarence John Abel           </td><td>M</td><td>23</td><td>185</td><td>102</td><td>United States </td><td>USA</td><td>1924 Winter</td><td>1924</td><td>Winter</td><td>Chamonix</td><td>Ice Hockey     </td><td>Ice Hockey Men's Ice Hockey              </td><td>Silver</td></tr>\n",
       "\t<tr><th scope=row>2</th><td> 992</td><td>Josef Adolf                  </td><td>M</td><td>25</td><td> NA</td><td> NA</td><td>Czechoslovakia</td><td>TCH</td><td>1924 Winter</td><td>1924</td><td>Winter</td><td>Chamonix</td><td>Nordic Combined</td><td>Nordic Combined Men's Individual         </td><td>NA    </td></tr>\n",
       "\t<tr><th scope=row>3</th><td>1077</td><td>Xavier Affentranger          </td><td>M</td><td>26</td><td> NA</td><td> NA</td><td>Switzerland   </td><td>SUI</td><td>1924 Winter</td><td>1924</td><td>Winter</td><td>Chamonix</td><td>Ski Jumping    </td><td>Ski Jumping Men's Normal Hill, Individual</td><td>NA    </td></tr>\n",
       "\t<tr><th scope=row>4</th><td>1341</td><td>Johan Petter hln (Andersson-)</td><td>M</td><td>44</td><td> NA</td><td> NA</td><td>Sweden        </td><td>SWE</td><td>1924 Winter</td><td>1924</td><td>Winter</td><td>Chamonix</td><td>Curling        </td><td>Curling Men's Curling                    </td><td>Silver</td></tr>\n",
       "\t<tr><th scope=row>5</th><td>2329</td><td>Louis Albert                 </td><td>M</td><td>25</td><td> NA</td><td> NA</td><td>France        </td><td>FRA</td><td>1924 Winter</td><td>1924</td><td>Winter</td><td>Chamonix</td><td>Ski Jumping    </td><td>Ski Jumping Men's Normal Hill, Individual</td><td>NA    </td></tr>\n",
       "\t<tr><th scope=row>6</th><td>2431</td><td>Henri Eugne Aldebert         </td><td>M</td><td>43</td><td> NA</td><td> NA</td><td>France-1      </td><td>FRA</td><td>1924 Winter</td><td>1924</td><td>Winter</td><td>Chamonix</td><td>Bobsleigh      </td><td>Bobsleigh Men's Four/Five                </td><td>NA    </td></tr>\n",
       "</tbody>\n",
       "</table>\n"
      ],
      "text/latex": [
       "A data.frame: 6 × 15\n",
       "\\begin{tabular}{r|lllllllllllllll}\n",
       "  & ID & Name & Sex & Age & Height & Weight & Team & NOC & Games & Year & Season & City & Sport & Event & Medal\\\\\n",
       "  & <int> & <chr> & <chr> & <int> & <int> & <dbl> & <chr> & <chr> & <chr> & <int> & <chr> & <chr> & <chr> & <chr> & <chr>\\\\\n",
       "\\hline\n",
       "\t1 &  391 & Clarence John Abel            & M & 23 & 185 & 102 & United States  & USA & 1924 Winter & 1924 & Winter & Chamonix & Ice Hockey      & Ice Hockey Men's Ice Hockey               & Silver\\\\\n",
       "\t2 &  992 & Josef Adolf                   & M & 25 &  NA &  NA & Czechoslovakia & TCH & 1924 Winter & 1924 & Winter & Chamonix & Nordic Combined & Nordic Combined Men's Individual          & NA    \\\\\n",
       "\t3 & 1077 & Xavier Affentranger           & M & 26 &  NA &  NA & Switzerland    & SUI & 1924 Winter & 1924 & Winter & Chamonix & Ski Jumping     & Ski Jumping Men's Normal Hill, Individual & NA    \\\\\n",
       "\t4 & 1341 & Johan Petter hln (Andersson-) & M & 44 &  NA &  NA & Sweden         & SWE & 1924 Winter & 1924 & Winter & Chamonix & Curling         & Curling Men's Curling                     & Silver\\\\\n",
       "\t5 & 2329 & Louis Albert                  & M & 25 &  NA &  NA & France         & FRA & 1924 Winter & 1924 & Winter & Chamonix & Ski Jumping     & Ski Jumping Men's Normal Hill, Individual & NA    \\\\\n",
       "\t6 & 2431 & Henri Eugne Aldebert          & M & 43 &  NA &  NA & France-1       & FRA & 1924 Winter & 1924 & Winter & Chamonix & Bobsleigh       & Bobsleigh Men's Four/Five                 & NA    \\\\\n",
       "\\end{tabular}\n"
      ],
      "text/markdown": [
       "\n",
       "A data.frame: 6 × 15\n",
       "\n",
       "| <!--/--> | ID &lt;int&gt; | Name &lt;chr&gt; | Sex &lt;chr&gt; | Age &lt;int&gt; | Height &lt;int&gt; | Weight &lt;dbl&gt; | Team &lt;chr&gt; | NOC &lt;chr&gt; | Games &lt;chr&gt; | Year &lt;int&gt; | Season &lt;chr&gt; | City &lt;chr&gt; | Sport &lt;chr&gt; | Event &lt;chr&gt; | Medal &lt;chr&gt; |\n",
       "|---|---|---|---|---|---|---|---|---|---|---|---|---|---|---|---|\n",
       "| 1 |  391 | Clarence John Abel            | M | 23 | 185 | 102 | United States  | USA | 1924 Winter | 1924 | Winter | Chamonix | Ice Hockey      | Ice Hockey Men's Ice Hockey               | Silver |\n",
       "| 2 |  992 | Josef Adolf                   | M | 25 |  NA |  NA | Czechoslovakia | TCH | 1924 Winter | 1924 | Winter | Chamonix | Nordic Combined | Nordic Combined Men's Individual          | NA     |\n",
       "| 3 | 1077 | Xavier Affentranger           | M | 26 |  NA |  NA | Switzerland    | SUI | 1924 Winter | 1924 | Winter | Chamonix | Ski Jumping     | Ski Jumping Men's Normal Hill, Individual | NA     |\n",
       "| 4 | 1341 | Johan Petter hln (Andersson-) | M | 44 |  NA |  NA | Sweden         | SWE | 1924 Winter | 1924 | Winter | Chamonix | Curling         | Curling Men's Curling                     | Silver |\n",
       "| 5 | 2329 | Louis Albert                  | M | 25 |  NA |  NA | France         | FRA | 1924 Winter | 1924 | Winter | Chamonix | Ski Jumping     | Ski Jumping Men's Normal Hill, Individual | NA     |\n",
       "| 6 | 2431 | Henri Eugne Aldebert          | M | 43 |  NA |  NA | France-1       | FRA | 1924 Winter | 1924 | Winter | Chamonix | Bobsleigh       | Bobsleigh Men's Four/Five                 | NA     |\n",
       "\n"
      ],
      "text/plain": [
       "  ID   Name                          Sex Age Height Weight Team           NOC\n",
       "1  391 Clarence John Abel            M   23  185    102    United States  USA\n",
       "2  992 Josef Adolf                   M   25   NA     NA    Czechoslovakia TCH\n",
       "3 1077 Xavier Affentranger           M   26   NA     NA    Switzerland    SUI\n",
       "4 1341 Johan Petter hln (Andersson-) M   44   NA     NA    Sweden         SWE\n",
       "5 2329 Louis Albert                  M   25   NA     NA    France         FRA\n",
       "6 2431 Henri Eugne Aldebert          M   43   NA     NA    France-1       FRA\n",
       "  Games       Year Season City     Sport          \n",
       "1 1924 Winter 1924 Winter Chamonix Ice Hockey     \n",
       "2 1924 Winter 1924 Winter Chamonix Nordic Combined\n",
       "3 1924 Winter 1924 Winter Chamonix Ski Jumping    \n",
       "4 1924 Winter 1924 Winter Chamonix Curling        \n",
       "5 1924 Winter 1924 Winter Chamonix Ski Jumping    \n",
       "6 1924 Winter 1924 Winter Chamonix Bobsleigh      \n",
       "  Event                                     Medal \n",
       "1 Ice Hockey Men's Ice Hockey               Silver\n",
       "2 Nordic Combined Men's Individual          NA    \n",
       "3 Ski Jumping Men's Normal Hill, Individual NA    \n",
       "4 Curling Men's Curling                     Silver\n",
       "5 Ski Jumping Men's Normal Hill, Individual NA    \n",
       "6 Bobsleigh Men's Four/Five                 NA    "
      ]
     },
     "metadata": {},
     "output_type": "display_data"
    },
    {
     "data": {
      "text/html": [
       "<table class=\"dataframe\">\n",
       "<caption>A data.frame: 6 × 15</caption>\n",
       "<thead>\n",
       "\t<tr><th></th><th scope=col>ID</th><th scope=col>Name</th><th scope=col>Sex</th><th scope=col>Age</th><th scope=col>Height</th><th scope=col>Weight</th><th scope=col>Team</th><th scope=col>NOC</th><th scope=col>Games</th><th scope=col>Year</th><th scope=col>Season</th><th scope=col>City</th><th scope=col>Sport</th><th scope=col>Event</th><th scope=col>Medal</th></tr>\n",
       "\t<tr><th></th><th scope=col>&lt;int&gt;</th><th scope=col>&lt;chr&gt;</th><th scope=col>&lt;chr&gt;</th><th scope=col>&lt;int&gt;</th><th scope=col>&lt;int&gt;</th><th scope=col>&lt;dbl&gt;</th><th scope=col>&lt;chr&gt;</th><th scope=col>&lt;chr&gt;</th><th scope=col>&lt;chr&gt;</th><th scope=col>&lt;int&gt;</th><th scope=col>&lt;chr&gt;</th><th scope=col>&lt;chr&gt;</th><th scope=col>&lt;chr&gt;</th><th scope=col>&lt;chr&gt;</th><th scope=col>&lt;chr&gt;</th></tr>\n",
       "</thead>\n",
       "<tbody>\n",
       "\t<tr><th scope=row>1</th><td>12068</td><td>Arthur Charles Blake       </td><td>M</td><td>24</td><td> NA</td><td>NA</td><td>United States</td><td>USA</td><td>1896 Summer</td><td>1896</td><td>Summer</td><td>Athina</td><td>Athletics </td><td>Athletics Men's 1,500 metres  </td><td>Silver</td></tr>\n",
       "\t<tr><th scope=row>2</th><td>12563</td><td>Conrad Helmut Fritz Bcker  </td><td>M</td><td>25</td><td> NA</td><td>NA</td><td>Germany      </td><td>GER</td><td>1896 Summer</td><td>1896</td><td>Summer</td><td>Athina</td><td>Gymnastics</td><td>Gymnastics Men's Horse Vault  </td><td>NA    </td></tr>\n",
       "\t<tr><th scope=row>3</th><td>12929</td><td>John Mary Pius Boland      </td><td>M</td><td>25</td><td> NA</td><td>NA</td><td>Great Britain</td><td>GBR</td><td>1896 Summer</td><td>1896</td><td>Summer</td><td>Athina</td><td>Tennis    </td><td>Tennis Men's Singles          </td><td>Gold  </td></tr>\n",
       "\t<tr><th scope=row>4</th><td>16616</td><td>Thomas Edmund \"Tom\" Burke  </td><td>M</td><td>21</td><td>183</td><td>66</td><td>United States</td><td>USA</td><td>1896 Summer</td><td>1896</td><td>Summer</td><td>Athina</td><td>Athletics </td><td>Athletics Men's 100 metres    </td><td>Gold  </td></tr>\n",
       "\t<tr><th scope=row>5</th><td>17492</td><td>Eugne Henri Callot         </td><td>M</td><td>20</td><td> NA</td><td>NA</td><td>France       </td><td>FRA</td><td>1896 Summer</td><td>1896</td><td>Summer</td><td>Athina</td><td>Fencing   </td><td>Fencing Men's Foil, Individual</td><td>Silver</td></tr>\n",
       "\t<tr><th scope=row>6</th><td>18785</td><td>Demetrius Emmanuel Casdagli</td><td>M</td><td>23</td><td> NA</td><td>NA</td><td>Greece       </td><td>GRE</td><td>1896 Summer</td><td>1896</td><td>Summer</td><td>Athina</td><td>Tennis    </td><td>Tennis Men's Singles          </td><td>Silver</td></tr>\n",
       "</tbody>\n",
       "</table>\n"
      ],
      "text/latex": [
       "A data.frame: 6 × 15\n",
       "\\begin{tabular}{r|lllllllllllllll}\n",
       "  & ID & Name & Sex & Age & Height & Weight & Team & NOC & Games & Year & Season & City & Sport & Event & Medal\\\\\n",
       "  & <int> & <chr> & <chr> & <int> & <int> & <dbl> & <chr> & <chr> & <chr> & <int> & <chr> & <chr> & <chr> & <chr> & <chr>\\\\\n",
       "\\hline\n",
       "\t1 & 12068 & Arthur Charles Blake        & M & 24 &  NA & NA & United States & USA & 1896 Summer & 1896 & Summer & Athina & Athletics  & Athletics Men's 1,500 metres   & Silver\\\\\n",
       "\t2 & 12563 & Conrad Helmut Fritz Bcker   & M & 25 &  NA & NA & Germany       & GER & 1896 Summer & 1896 & Summer & Athina & Gymnastics & Gymnastics Men's Horse Vault   & NA    \\\\\n",
       "\t3 & 12929 & John Mary Pius Boland       & M & 25 &  NA & NA & Great Britain & GBR & 1896 Summer & 1896 & Summer & Athina & Tennis     & Tennis Men's Singles           & Gold  \\\\\n",
       "\t4 & 16616 & Thomas Edmund \"Tom\" Burke   & M & 21 & 183 & 66 & United States & USA & 1896 Summer & 1896 & Summer & Athina & Athletics  & Athletics Men's 100 metres     & Gold  \\\\\n",
       "\t5 & 17492 & Eugne Henri Callot          & M & 20 &  NA & NA & France        & FRA & 1896 Summer & 1896 & Summer & Athina & Fencing    & Fencing Men's Foil, Individual & Silver\\\\\n",
       "\t6 & 18785 & Demetrius Emmanuel Casdagli & M & 23 &  NA & NA & Greece        & GRE & 1896 Summer & 1896 & Summer & Athina & Tennis     & Tennis Men's Singles           & Silver\\\\\n",
       "\\end{tabular}\n"
      ],
      "text/markdown": [
       "\n",
       "A data.frame: 6 × 15\n",
       "\n",
       "| <!--/--> | ID &lt;int&gt; | Name &lt;chr&gt; | Sex &lt;chr&gt; | Age &lt;int&gt; | Height &lt;int&gt; | Weight &lt;dbl&gt; | Team &lt;chr&gt; | NOC &lt;chr&gt; | Games &lt;chr&gt; | Year &lt;int&gt; | Season &lt;chr&gt; | City &lt;chr&gt; | Sport &lt;chr&gt; | Event &lt;chr&gt; | Medal &lt;chr&gt; |\n",
       "|---|---|---|---|---|---|---|---|---|---|---|---|---|---|---|---|\n",
       "| 1 | 12068 | Arthur Charles Blake        | M | 24 |  NA | NA | United States | USA | 1896 Summer | 1896 | Summer | Athina | Athletics  | Athletics Men's 1,500 metres   | Silver |\n",
       "| 2 | 12563 | Conrad Helmut Fritz Bcker   | M | 25 |  NA | NA | Germany       | GER | 1896 Summer | 1896 | Summer | Athina | Gymnastics | Gymnastics Men's Horse Vault   | NA     |\n",
       "| 3 | 12929 | John Mary Pius Boland       | M | 25 |  NA | NA | Great Britain | GBR | 1896 Summer | 1896 | Summer | Athina | Tennis     | Tennis Men's Singles           | Gold   |\n",
       "| 4 | 16616 | Thomas Edmund \"Tom\" Burke   | M | 21 | 183 | 66 | United States | USA | 1896 Summer | 1896 | Summer | Athina | Athletics  | Athletics Men's 100 metres     | Gold   |\n",
       "| 5 | 17492 | Eugne Henri Callot          | M | 20 |  NA | NA | France        | FRA | 1896 Summer | 1896 | Summer | Athina | Fencing    | Fencing Men's Foil, Individual | Silver |\n",
       "| 6 | 18785 | Demetrius Emmanuel Casdagli | M | 23 |  NA | NA | Greece        | GRE | 1896 Summer | 1896 | Summer | Athina | Tennis     | Tennis Men's Singles           | Silver |\n",
       "\n"
      ],
      "text/plain": [
       "  ID    Name                        Sex Age Height Weight Team          NOC\n",
       "1 12068 Arthur Charles Blake        M   24   NA    NA     United States USA\n",
       "2 12563 Conrad Helmut Fritz Bcker   M   25   NA    NA     Germany       GER\n",
       "3 12929 John Mary Pius Boland       M   25   NA    NA     Great Britain GBR\n",
       "4 16616 Thomas Edmund \"Tom\" Burke   M   21  183    66     United States USA\n",
       "5 17492 Eugne Henri Callot          M   20   NA    NA     France        FRA\n",
       "6 18785 Demetrius Emmanuel Casdagli M   23   NA    NA     Greece        GRE\n",
       "  Games       Year Season City   Sport      Event                         \n",
       "1 1896 Summer 1896 Summer Athina Athletics  Athletics Men's 1,500 metres  \n",
       "2 1896 Summer 1896 Summer Athina Gymnastics Gymnastics Men's Horse Vault  \n",
       "3 1896 Summer 1896 Summer Athina Tennis     Tennis Men's Singles          \n",
       "4 1896 Summer 1896 Summer Athina Athletics  Athletics Men's 100 metres    \n",
       "5 1896 Summer 1896 Summer Athina Fencing    Fencing Men's Foil, Individual\n",
       "6 1896 Summer 1896 Summer Athina Tennis     Tennis Men's Singles          \n",
       "  Medal \n",
       "1 Silver\n",
       "2 NA    \n",
       "3 Gold  \n",
       "4 Gold  \n",
       "5 Silver\n",
       "6 Silver"
      ]
     },
     "metadata": {},
     "output_type": "display_data"
    }
   ],
   "source": [
    "processed_df <- data[order(data$Year),]  %>% \n",
    "    filter(!is.na(Age)) # get rid of NA/Age\n",
    "    # we should get rid of anyone who didn't win a medal either - does NA in the medal mean they didn't win or they don't know\n",
    "    # also, let's decide if we care about bronze/silver as opposed to just looking at gold\n",
    "\n",
    "first_time_only <- processed_df[match(unique(processed_df$ID), processed_df$ID),] # only first time winners now, if they won a second time, it was excluded\n",
    "# I think this works, someone check though\n",
    "    \n",
    "winter_df <- first_time_only %>% \n",
    "    filter(Season == \"Winter\")\n",
    "\n",
    "summer_df <- first_time_only %>% \n",
    "    filter(Season == \"Summer\")\n",
    "\n",
    "head(first_time_only)\n",
    "head(winter_df)\n",
    "head(summer_df)"
   ]
  }
 ],
 "metadata": {
  "kernelspec": {
   "display_name": "R",
   "language": "R",
   "name": "ir"
  },
  "language_info": {
   "codemirror_mode": "r",
   "file_extension": ".r",
   "mimetype": "text/x-r-source",
   "name": "R",
   "pygments_lexer": "r",
   "version": "4.0.3"
  }
 },
 "nbformat": 4,
 "nbformat_minor": 5
}
