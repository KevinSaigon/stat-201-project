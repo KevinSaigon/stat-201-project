{
 "cells": [
  {
   "cell_type": "markdown",
   "id": "7dc09c6e-7077-4d65-8b9f-18b6523d0721",
   "metadata": {},
   "source": [
    "# Preliminary Results"
   ]
  },
  {
   "cell_type": "markdown",
   "id": "33848774-d676-4d50-a016-657acd6282fe",
   "metadata": {},
   "source": [
    "## Load Libraries"
   ]
  },
  {
   "cell_type": "code",
   "execution_count": 1,
   "id": "75fc5472-76e4-4e7a-a5d6-032c943313ba",
   "metadata": {},
   "outputs": [
    {
     "name": "stderr",
     "output_type": "stream",
     "text": [
      "-- \u001b[1mAttaching packages\u001b[22m --------------------------------------------------------------------------------- tidyverse 1.3.1 --\n",
      "\n",
      "\u001b[32mv\u001b[39m \u001b[34mggplot2\u001b[39m 3.3.5     \u001b[32mv\u001b[39m \u001b[34mpurrr  \u001b[39m 0.3.4\n",
      "\u001b[32mv\u001b[39m \u001b[34mtibble \u001b[39m 3.1.5     \u001b[32mv\u001b[39m \u001b[34mdplyr  \u001b[39m 1.0.7\n",
      "\u001b[32mv\u001b[39m \u001b[34mtidyr  \u001b[39m 1.1.4     \u001b[32mv\u001b[39m \u001b[34mstringr\u001b[39m 1.4.0\n",
      "\u001b[32mv\u001b[39m \u001b[34mreadr  \u001b[39m 2.0.2     \u001b[32mv\u001b[39m \u001b[34mforcats\u001b[39m 0.5.1\n",
      "\n",
      "-- \u001b[1mConflicts\u001b[22m ------------------------------------------------------------------------------------ tidyverse_conflicts() --\n",
      "\u001b[31mx\u001b[39m \u001b[34mdplyr\u001b[39m::\u001b[32mfilter()\u001b[39m masks \u001b[34mstats\u001b[39m::filter()\n",
      "\u001b[31mx\u001b[39m \u001b[34mdplyr\u001b[39m::\u001b[32mlag()\u001b[39m    masks \u001b[34mstats\u001b[39m::lag()\n",
      "\n",
      "\n",
      "Attaching package: 'gridExtra'\n",
      "\n",
      "\n",
      "The following object is masked from 'package:dplyr':\n",
      "\n",
      "    combine\n",
      "\n",
      "\n",
      "\n",
      "Attaching package: 'kableExtra'\n",
      "\n",
      "\n",
      "The following object is masked from 'package:dplyr':\n",
      "\n",
      "    group_rows\n",
      "\n",
      "\n"
     ]
    }
   ],
   "source": [
    "## code to get rid of warnings\n",
    "defaultW <- getOption(\"warn\") \n",
    "options(warn = -1) \n",
    "##\n",
    "\n",
    "library(tidyverse)\n",
    "library(repr)\n",
    "library(digest)\n",
    "library(infer)\n",
    "library(gridExtra)\n",
    "library(kableExtra)\n",
    "library(knitr)\n",
    "library(cowplot)"
   ]
  },
  {
   "cell_type": "markdown",
   "id": "049dad31-f96c-432a-b277-862930e7306d",
   "metadata": {},
   "source": [
    "## Data Intake and Pre-Processing"
   ]
  },
  {
   "cell_type": "markdown",
   "id": "f00adcde-75e8-4aa6-bb57-49ea111a77ce",
   "metadata": {},
   "source": [
    "First, we will read in the dataset. The code here assumes you've downloaded the dataset and placed them into a data folder. If you would like to run our code and follow along, please clone our GitHub repository [here](https://github.com/KevinSaigon/stat-201-project)"
   ]
  },
  {
   "cell_type": "code",
   "execution_count": 2,
   "id": "2716a1ca-b751-49f0-a8de-6b3a277a0a43",
   "metadata": {},
   "outputs": [],
   "source": [
    "data <- read.csv(file = \"data/athlete_events.csv\")\n",
    "# website says \"Demonstrate that the dataset can be read from the web into R.\" - is local files okay? Ask on Monday"
   ]
  },
  {
   "cell_type": "markdown",
   "id": "8f5987d2-3236-4b5c-a864-459bd2961acd",
   "metadata": {},
   "source": [
    "We will then do some pre-processing to get rid of any athlete whose age is is not known as well as filter out ones who did not win gold medals. \n",
    "\n",
    "The next step was then to only count first-time wins for multiple-time medal winners (i.e Michael Phelps). The code below essentially only keep the first occurrence of an athlete's ID, and since we sorted the dataframe by Year, this equates to the athlete's first time winning the gold medal."
   ]
  },
  {
   "cell_type": "code",
   "execution_count": 3,
   "id": "b72761a0-c9f8-409c-8aeb-54976ffb0153",
   "metadata": {},
   "outputs": [
    {
     "data": {
      "text/html": [
       "<table class=\"dataframe\">\n",
       "<caption>A data.frame: 6 × 15</caption>\n",
       "<thead>\n",
       "\t<tr><th></th><th scope=col>ID</th><th scope=col>Name</th><th scope=col>Sex</th><th scope=col>Age</th><th scope=col>Height</th><th scope=col>Weight</th><th scope=col>Team</th><th scope=col>NOC</th><th scope=col>Games</th><th scope=col>Year</th><th scope=col>Season</th><th scope=col>City</th><th scope=col>Sport</th><th scope=col>Event</th><th scope=col>Medal</th></tr>\n",
       "\t<tr><th></th><th scope=col>&lt;int&gt;</th><th scope=col>&lt;chr&gt;</th><th scope=col>&lt;chr&gt;</th><th scope=col>&lt;int&gt;</th><th scope=col>&lt;int&gt;</th><th scope=col>&lt;dbl&gt;</th><th scope=col>&lt;chr&gt;</th><th scope=col>&lt;chr&gt;</th><th scope=col>&lt;chr&gt;</th><th scope=col>&lt;int&gt;</th><th scope=col>&lt;chr&gt;</th><th scope=col>&lt;chr&gt;</th><th scope=col>&lt;chr&gt;</th><th scope=col>&lt;chr&gt;</th><th scope=col>&lt;chr&gt;</th></tr>\n",
       "</thead>\n",
       "<tbody>\n",
       "\t<tr><th scope=row>1</th><td>12068</td><td>Arthur Charles Blake       </td><td>M</td><td>24</td><td> NA</td><td>NA</td><td>United States</td><td>USA</td><td>1896 Summer</td><td>1896</td><td>Summer</td><td>Athina</td><td>Athletics </td><td>Athletics Men's 1,500 metres         </td><td>Silver</td></tr>\n",
       "\t<tr><th scope=row>2</th><td>12563</td><td>Conrad Helmut Fritz Bcker  </td><td>M</td><td>25</td><td> NA</td><td>NA</td><td>Germany      </td><td>GER</td><td>1896 Summer</td><td>1896</td><td>Summer</td><td>Athina</td><td>Gymnastics</td><td>Gymnastics Men's Parallel Bars, Teams</td><td>Gold  </td></tr>\n",
       "\t<tr><th scope=row>4</th><td>12929</td><td>John Mary Pius Boland      </td><td>M</td><td>25</td><td> NA</td><td>NA</td><td>Great Britain</td><td>GBR</td><td>1896 Summer</td><td>1896</td><td>Summer</td><td>Athina</td><td>Tennis    </td><td>Tennis Men's Singles                 </td><td>Gold  </td></tr>\n",
       "\t<tr><th scope=row>6</th><td>16616</td><td>Thomas Edmund \"Tom\" Burke  </td><td>M</td><td>21</td><td>183</td><td>66</td><td>United States</td><td>USA</td><td>1896 Summer</td><td>1896</td><td>Summer</td><td>Athina</td><td>Athletics </td><td>Athletics Men's 100 metres           </td><td>Gold  </td></tr>\n",
       "\t<tr><th scope=row>8</th><td>17492</td><td>Eugne Henri Callot         </td><td>M</td><td>20</td><td> NA</td><td>NA</td><td>France       </td><td>FRA</td><td>1896 Summer</td><td>1896</td><td>Summer</td><td>Athina</td><td>Fencing   </td><td>Fencing Men's Foil, Individual       </td><td>Silver</td></tr>\n",
       "\t<tr><th scope=row>9</th><td>18785</td><td>Demetrius Emmanuel Casdagli</td><td>M</td><td>23</td><td> NA</td><td>NA</td><td>Greece       </td><td>GRE</td><td>1896 Summer</td><td>1896</td><td>Summer</td><td>Athina</td><td>Tennis    </td><td>Tennis Men's Singles                 </td><td>Silver</td></tr>\n",
       "</tbody>\n",
       "</table>\n"
      ],
      "text/latex": [
       "A data.frame: 6 × 15\n",
       "\\begin{tabular}{r|lllllllllllllll}\n",
       "  & ID & Name & Sex & Age & Height & Weight & Team & NOC & Games & Year & Season & City & Sport & Event & Medal\\\\\n",
       "  & <int> & <chr> & <chr> & <int> & <int> & <dbl> & <chr> & <chr> & <chr> & <int> & <chr> & <chr> & <chr> & <chr> & <chr>\\\\\n",
       "\\hline\n",
       "\t1 & 12068 & Arthur Charles Blake        & M & 24 &  NA & NA & United States & USA & 1896 Summer & 1896 & Summer & Athina & Athletics  & Athletics Men's 1,500 metres          & Silver\\\\\n",
       "\t2 & 12563 & Conrad Helmut Fritz Bcker   & M & 25 &  NA & NA & Germany       & GER & 1896 Summer & 1896 & Summer & Athina & Gymnastics & Gymnastics Men's Parallel Bars, Teams & Gold  \\\\\n",
       "\t4 & 12929 & John Mary Pius Boland       & M & 25 &  NA & NA & Great Britain & GBR & 1896 Summer & 1896 & Summer & Athina & Tennis     & Tennis Men's Singles                  & Gold  \\\\\n",
       "\t6 & 16616 & Thomas Edmund \"Tom\" Burke   & M & 21 & 183 & 66 & United States & USA & 1896 Summer & 1896 & Summer & Athina & Athletics  & Athletics Men's 100 metres            & Gold  \\\\\n",
       "\t8 & 17492 & Eugne Henri Callot          & M & 20 &  NA & NA & France        & FRA & 1896 Summer & 1896 & Summer & Athina & Fencing    & Fencing Men's Foil, Individual        & Silver\\\\\n",
       "\t9 & 18785 & Demetrius Emmanuel Casdagli & M & 23 &  NA & NA & Greece        & GRE & 1896 Summer & 1896 & Summer & Athina & Tennis     & Tennis Men's Singles                  & Silver\\\\\n",
       "\\end{tabular}\n"
      ],
      "text/markdown": [
       "\n",
       "A data.frame: 6 × 15\n",
       "\n",
       "| <!--/--> | ID &lt;int&gt; | Name &lt;chr&gt; | Sex &lt;chr&gt; | Age &lt;int&gt; | Height &lt;int&gt; | Weight &lt;dbl&gt; | Team &lt;chr&gt; | NOC &lt;chr&gt; | Games &lt;chr&gt; | Year &lt;int&gt; | Season &lt;chr&gt; | City &lt;chr&gt; | Sport &lt;chr&gt; | Event &lt;chr&gt; | Medal &lt;chr&gt; |\n",
       "|---|---|---|---|---|---|---|---|---|---|---|---|---|---|---|---|\n",
       "| 1 | 12068 | Arthur Charles Blake        | M | 24 |  NA | NA | United States | USA | 1896 Summer | 1896 | Summer | Athina | Athletics  | Athletics Men's 1,500 metres          | Silver |\n",
       "| 2 | 12563 | Conrad Helmut Fritz Bcker   | M | 25 |  NA | NA | Germany       | GER | 1896 Summer | 1896 | Summer | Athina | Gymnastics | Gymnastics Men's Parallel Bars, Teams | Gold   |\n",
       "| 4 | 12929 | John Mary Pius Boland       | M | 25 |  NA | NA | Great Britain | GBR | 1896 Summer | 1896 | Summer | Athina | Tennis     | Tennis Men's Singles                  | Gold   |\n",
       "| 6 | 16616 | Thomas Edmund \"Tom\" Burke   | M | 21 | 183 | 66 | United States | USA | 1896 Summer | 1896 | Summer | Athina | Athletics  | Athletics Men's 100 metres            | Gold   |\n",
       "| 8 | 17492 | Eugne Henri Callot          | M | 20 |  NA | NA | France        | FRA | 1896 Summer | 1896 | Summer | Athina | Fencing    | Fencing Men's Foil, Individual        | Silver |\n",
       "| 9 | 18785 | Demetrius Emmanuel Casdagli | M | 23 |  NA | NA | Greece        | GRE | 1896 Summer | 1896 | Summer | Athina | Tennis     | Tennis Men's Singles                  | Silver |\n",
       "\n"
      ],
      "text/plain": [
       "  ID    Name                        Sex Age Height Weight Team          NOC\n",
       "1 12068 Arthur Charles Blake        M   24   NA    NA     United States USA\n",
       "2 12563 Conrad Helmut Fritz Bcker   M   25   NA    NA     Germany       GER\n",
       "4 12929 John Mary Pius Boland       M   25   NA    NA     Great Britain GBR\n",
       "6 16616 Thomas Edmund \"Tom\" Burke   M   21  183    66     United States USA\n",
       "8 17492 Eugne Henri Callot          M   20   NA    NA     France        FRA\n",
       "9 18785 Demetrius Emmanuel Casdagli M   23   NA    NA     Greece        GRE\n",
       "  Games       Year Season City   Sport     \n",
       "1 1896 Summer 1896 Summer Athina Athletics \n",
       "2 1896 Summer 1896 Summer Athina Gymnastics\n",
       "4 1896 Summer 1896 Summer Athina Tennis    \n",
       "6 1896 Summer 1896 Summer Athina Athletics \n",
       "8 1896 Summer 1896 Summer Athina Fencing   \n",
       "9 1896 Summer 1896 Summer Athina Tennis    \n",
       "  Event                                 Medal \n",
       "1 Athletics Men's 1,500 metres          Silver\n",
       "2 Gymnastics Men's Parallel Bars, Teams Gold  \n",
       "4 Tennis Men's Singles                  Gold  \n",
       "6 Athletics Men's 100 metres            Gold  \n",
       "8 Fencing Men's Foil, Individual        Silver\n",
       "9 Tennis Men's Singles                  Silver"
      ]
     },
     "metadata": {},
     "output_type": "display_data"
    }
   ],
   "source": [
    "processed_df <- data[order(data$Year),]  %>% \n",
    "    filter(!is.na(Age)) %>% # get rid of NA/Age\n",
    "    filter(!is.na(Medal)) # we should get rid of anyone who didn't win a medal either - does NA in the medal mean they didn't win or they don't know\n",
    "                            # also, let's decide if we care about bronze/silver as opposed to just looking at gold\n",
    "#     filter(Medal == \"Gold\")\n",
    "\n",
    "first_time_only <- processed_df[match(unique(processed_df$ID), processed_df$ID),] # only first time winners now, if they won a second time, it was excluded\n",
    "    \n",
    "head(first_time_only)"
   ]
  },
  {
   "cell_type": "markdown",
   "id": "bb485f6d-5866-429a-a96c-cefcf4a8965e",
   "metadata": {},
   "source": [
    "Next, we will split the dataset by their Season, the winter Olympics vs the summer Olympics"
   ]
  },
  {
   "cell_type": "code",
   "execution_count": 4,
   "id": "6c2fa68b-6c23-4e47-9ed7-b6b29a406bbf",
   "metadata": {},
   "outputs": [
    {
     "data": {
      "text/html": [
       "<table class=\"dataframe\">\n",
       "<caption>A data.frame: 6 × 15</caption>\n",
       "<thead>\n",
       "\t<tr><th></th><th scope=col>ID</th><th scope=col>Name</th><th scope=col>Sex</th><th scope=col>Age</th><th scope=col>Height</th><th scope=col>Weight</th><th scope=col>Team</th><th scope=col>NOC</th><th scope=col>Games</th><th scope=col>Year</th><th scope=col>Season</th><th scope=col>City</th><th scope=col>Sport</th><th scope=col>Event</th><th scope=col>Medal</th></tr>\n",
       "\t<tr><th></th><th scope=col>&lt;int&gt;</th><th scope=col>&lt;chr&gt;</th><th scope=col>&lt;chr&gt;</th><th scope=col>&lt;int&gt;</th><th scope=col>&lt;int&gt;</th><th scope=col>&lt;dbl&gt;</th><th scope=col>&lt;chr&gt;</th><th scope=col>&lt;chr&gt;</th><th scope=col>&lt;chr&gt;</th><th scope=col>&lt;int&gt;</th><th scope=col>&lt;chr&gt;</th><th scope=col>&lt;chr&gt;</th><th scope=col>&lt;chr&gt;</th><th scope=col>&lt;chr&gt;</th><th scope=col>&lt;chr&gt;</th></tr>\n",
       "</thead>\n",
       "<tbody>\n",
       "\t<tr><th scope=row>1</th><td> 391</td><td>Clarence John Abel           </td><td>M</td><td>23</td><td>185</td><td>102</td><td>United States  </td><td>USA</td><td>1924 Winter</td><td>1924</td><td>Winter</td><td>Chamonix</td><td>Ice Hockey         </td><td>Ice Hockey Men's Ice Hockey                  </td><td>Silver</td></tr>\n",
       "\t<tr><th scope=row>2</th><td>1341</td><td>Johan Petter hln (Andersson-)</td><td>M</td><td>44</td><td> NA</td><td> NA</td><td>Sweden         </td><td>SWE</td><td>1924 Winter</td><td>1924</td><td>Winter</td><td>Chamonix</td><td>Curling            </td><td>Curling Men's Curling                        </td><td>Silver</td></tr>\n",
       "\t<tr><th scope=row>3</th><td>3872</td><td>William Harding Anderson     </td><td>M</td><td>22</td><td> NA</td><td> NA</td><td>Great Britain  </td><td>GBR</td><td>1924 Winter</td><td>1924</td><td>Winter</td><td>Chamonix</td><td>Ice Hockey         </td><td>Ice Hockey Men's Ice Hockey                  </td><td>Bronze</td></tr>\n",
       "\t<tr><th scope=row>4</th><td>4060</td><td>Georges Jules Andr           </td><td>M</td><td>47</td><td> NA</td><td> NA</td><td>France         </td><td>FRA</td><td>1924 Winter</td><td>1924</td><td>Winter</td><td>Chamonix</td><td>Curling            </td><td>Curling Men's Curling                        </td><td>Bronze</td></tr>\n",
       "\t<tr><th scope=row>5</th><td>5232</td><td>Thomas Alfred Arnold         </td><td>M</td><td>22</td><td> NA</td><td> NA</td><td>Great Britain-1</td><td>GBR</td><td>1924 Winter</td><td>1924</td><td>Winter</td><td>Chamonix</td><td>Bobsleigh          </td><td>Bobsleigh Men's Four/Five                    </td><td>Silver</td></tr>\n",
       "\t<tr><th scope=row>6</th><td>5932</td><td>Alfred Aufdenblatten         </td><td>M</td><td>26</td><td> NA</td><td> NA</td><td>Switzerland    </td><td>SUI</td><td>1924 Winter</td><td>1924</td><td>Winter</td><td>Chamonix</td><td>Military Ski Patrol</td><td>Military Ski Patrol Men's Military Ski Patrol</td><td>Gold  </td></tr>\n",
       "</tbody>\n",
       "</table>\n"
      ],
      "text/latex": [
       "A data.frame: 6 × 15\n",
       "\\begin{tabular}{r|lllllllllllllll}\n",
       "  & ID & Name & Sex & Age & Height & Weight & Team & NOC & Games & Year & Season & City & Sport & Event & Medal\\\\\n",
       "  & <int> & <chr> & <chr> & <int> & <int> & <dbl> & <chr> & <chr> & <chr> & <int> & <chr> & <chr> & <chr> & <chr> & <chr>\\\\\n",
       "\\hline\n",
       "\t1 &  391 & Clarence John Abel            & M & 23 & 185 & 102 & United States   & USA & 1924 Winter & 1924 & Winter & Chamonix & Ice Hockey          & Ice Hockey Men's Ice Hockey                   & Silver\\\\\n",
       "\t2 & 1341 & Johan Petter hln (Andersson-) & M & 44 &  NA &  NA & Sweden          & SWE & 1924 Winter & 1924 & Winter & Chamonix & Curling             & Curling Men's Curling                         & Silver\\\\\n",
       "\t3 & 3872 & William Harding Anderson      & M & 22 &  NA &  NA & Great Britain   & GBR & 1924 Winter & 1924 & Winter & Chamonix & Ice Hockey          & Ice Hockey Men's Ice Hockey                   & Bronze\\\\\n",
       "\t4 & 4060 & Georges Jules Andr            & M & 47 &  NA &  NA & France          & FRA & 1924 Winter & 1924 & Winter & Chamonix & Curling             & Curling Men's Curling                         & Bronze\\\\\n",
       "\t5 & 5232 & Thomas Alfred Arnold          & M & 22 &  NA &  NA & Great Britain-1 & GBR & 1924 Winter & 1924 & Winter & Chamonix & Bobsleigh           & Bobsleigh Men's Four/Five                     & Silver\\\\\n",
       "\t6 & 5932 & Alfred Aufdenblatten          & M & 26 &  NA &  NA & Switzerland     & SUI & 1924 Winter & 1924 & Winter & Chamonix & Military Ski Patrol & Military Ski Patrol Men's Military Ski Patrol & Gold  \\\\\n",
       "\\end{tabular}\n"
      ],
      "text/markdown": [
       "\n",
       "A data.frame: 6 × 15\n",
       "\n",
       "| <!--/--> | ID &lt;int&gt; | Name &lt;chr&gt; | Sex &lt;chr&gt; | Age &lt;int&gt; | Height &lt;int&gt; | Weight &lt;dbl&gt; | Team &lt;chr&gt; | NOC &lt;chr&gt; | Games &lt;chr&gt; | Year &lt;int&gt; | Season &lt;chr&gt; | City &lt;chr&gt; | Sport &lt;chr&gt; | Event &lt;chr&gt; | Medal &lt;chr&gt; |\n",
       "|---|---|---|---|---|---|---|---|---|---|---|---|---|---|---|---|\n",
       "| 1 |  391 | Clarence John Abel            | M | 23 | 185 | 102 | United States   | USA | 1924 Winter | 1924 | Winter | Chamonix | Ice Hockey          | Ice Hockey Men's Ice Hockey                   | Silver |\n",
       "| 2 | 1341 | Johan Petter hln (Andersson-) | M | 44 |  NA |  NA | Sweden          | SWE | 1924 Winter | 1924 | Winter | Chamonix | Curling             | Curling Men's Curling                         | Silver |\n",
       "| 3 | 3872 | William Harding Anderson      | M | 22 |  NA |  NA | Great Britain   | GBR | 1924 Winter | 1924 | Winter | Chamonix | Ice Hockey          | Ice Hockey Men's Ice Hockey                   | Bronze |\n",
       "| 4 | 4060 | Georges Jules Andr            | M | 47 |  NA |  NA | France          | FRA | 1924 Winter | 1924 | Winter | Chamonix | Curling             | Curling Men's Curling                         | Bronze |\n",
       "| 5 | 5232 | Thomas Alfred Arnold          | M | 22 |  NA |  NA | Great Britain-1 | GBR | 1924 Winter | 1924 | Winter | Chamonix | Bobsleigh           | Bobsleigh Men's Four/Five                     | Silver |\n",
       "| 6 | 5932 | Alfred Aufdenblatten          | M | 26 |  NA |  NA | Switzerland     | SUI | 1924 Winter | 1924 | Winter | Chamonix | Military Ski Patrol | Military Ski Patrol Men's Military Ski Patrol | Gold   |\n",
       "\n"
      ],
      "text/plain": [
       "  ID   Name                          Sex Age Height Weight Team            NOC\n",
       "1  391 Clarence John Abel            M   23  185    102    United States   USA\n",
       "2 1341 Johan Petter hln (Andersson-) M   44   NA     NA    Sweden          SWE\n",
       "3 3872 William Harding Anderson      M   22   NA     NA    Great Britain   GBR\n",
       "4 4060 Georges Jules Andr            M   47   NA     NA    France          FRA\n",
       "5 5232 Thomas Alfred Arnold          M   22   NA     NA    Great Britain-1 GBR\n",
       "6 5932 Alfred Aufdenblatten          M   26   NA     NA    Switzerland     SUI\n",
       "  Games       Year Season City     Sport              \n",
       "1 1924 Winter 1924 Winter Chamonix Ice Hockey         \n",
       "2 1924 Winter 1924 Winter Chamonix Curling            \n",
       "3 1924 Winter 1924 Winter Chamonix Ice Hockey         \n",
       "4 1924 Winter 1924 Winter Chamonix Curling            \n",
       "5 1924 Winter 1924 Winter Chamonix Bobsleigh          \n",
       "6 1924 Winter 1924 Winter Chamonix Military Ski Patrol\n",
       "  Event                                         Medal \n",
       "1 Ice Hockey Men's Ice Hockey                   Silver\n",
       "2 Curling Men's Curling                         Silver\n",
       "3 Ice Hockey Men's Ice Hockey                   Bronze\n",
       "4 Curling Men's Curling                         Bronze\n",
       "5 Bobsleigh Men's Four/Five                     Silver\n",
       "6 Military Ski Patrol Men's Military Ski Patrol Gold  "
      ]
     },
     "metadata": {},
     "output_type": "display_data"
    },
    {
     "data": {
      "text/html": [
       "<table class=\"dataframe\">\n",
       "<caption>A data.frame: 6 × 15</caption>\n",
       "<thead>\n",
       "\t<tr><th></th><th scope=col>ID</th><th scope=col>Name</th><th scope=col>Sex</th><th scope=col>Age</th><th scope=col>Height</th><th scope=col>Weight</th><th scope=col>Team</th><th scope=col>NOC</th><th scope=col>Games</th><th scope=col>Year</th><th scope=col>Season</th><th scope=col>City</th><th scope=col>Sport</th><th scope=col>Event</th><th scope=col>Medal</th></tr>\n",
       "\t<tr><th></th><th scope=col>&lt;int&gt;</th><th scope=col>&lt;chr&gt;</th><th scope=col>&lt;chr&gt;</th><th scope=col>&lt;int&gt;</th><th scope=col>&lt;int&gt;</th><th scope=col>&lt;dbl&gt;</th><th scope=col>&lt;chr&gt;</th><th scope=col>&lt;chr&gt;</th><th scope=col>&lt;chr&gt;</th><th scope=col>&lt;int&gt;</th><th scope=col>&lt;chr&gt;</th><th scope=col>&lt;chr&gt;</th><th scope=col>&lt;chr&gt;</th><th scope=col>&lt;chr&gt;</th><th scope=col>&lt;chr&gt;</th></tr>\n",
       "</thead>\n",
       "<tbody>\n",
       "\t<tr><th scope=row>1</th><td>12068</td><td>Arthur Charles Blake       </td><td>M</td><td>24</td><td> NA</td><td>NA</td><td>United States</td><td>USA</td><td>1896 Summer</td><td>1896</td><td>Summer</td><td>Athina</td><td>Athletics </td><td>Athletics Men's 1,500 metres         </td><td>Silver</td></tr>\n",
       "\t<tr><th scope=row>2</th><td>12563</td><td>Conrad Helmut Fritz Bcker  </td><td>M</td><td>25</td><td> NA</td><td>NA</td><td>Germany      </td><td>GER</td><td>1896 Summer</td><td>1896</td><td>Summer</td><td>Athina</td><td>Gymnastics</td><td>Gymnastics Men's Parallel Bars, Teams</td><td>Gold  </td></tr>\n",
       "\t<tr><th scope=row>3</th><td>12929</td><td>John Mary Pius Boland      </td><td>M</td><td>25</td><td> NA</td><td>NA</td><td>Great Britain</td><td>GBR</td><td>1896 Summer</td><td>1896</td><td>Summer</td><td>Athina</td><td>Tennis    </td><td>Tennis Men's Singles                 </td><td>Gold  </td></tr>\n",
       "\t<tr><th scope=row>4</th><td>16616</td><td>Thomas Edmund \"Tom\" Burke  </td><td>M</td><td>21</td><td>183</td><td>66</td><td>United States</td><td>USA</td><td>1896 Summer</td><td>1896</td><td>Summer</td><td>Athina</td><td>Athletics </td><td>Athletics Men's 100 metres           </td><td>Gold  </td></tr>\n",
       "\t<tr><th scope=row>5</th><td>17492</td><td>Eugne Henri Callot         </td><td>M</td><td>20</td><td> NA</td><td>NA</td><td>France       </td><td>FRA</td><td>1896 Summer</td><td>1896</td><td>Summer</td><td>Athina</td><td>Fencing   </td><td>Fencing Men's Foil, Individual       </td><td>Silver</td></tr>\n",
       "\t<tr><th scope=row>6</th><td>18785</td><td>Demetrius Emmanuel Casdagli</td><td>M</td><td>23</td><td> NA</td><td>NA</td><td>Greece       </td><td>GRE</td><td>1896 Summer</td><td>1896</td><td>Summer</td><td>Athina</td><td>Tennis    </td><td>Tennis Men's Singles                 </td><td>Silver</td></tr>\n",
       "</tbody>\n",
       "</table>\n"
      ],
      "text/latex": [
       "A data.frame: 6 × 15\n",
       "\\begin{tabular}{r|lllllllllllllll}\n",
       "  & ID & Name & Sex & Age & Height & Weight & Team & NOC & Games & Year & Season & City & Sport & Event & Medal\\\\\n",
       "  & <int> & <chr> & <chr> & <int> & <int> & <dbl> & <chr> & <chr> & <chr> & <int> & <chr> & <chr> & <chr> & <chr> & <chr>\\\\\n",
       "\\hline\n",
       "\t1 & 12068 & Arthur Charles Blake        & M & 24 &  NA & NA & United States & USA & 1896 Summer & 1896 & Summer & Athina & Athletics  & Athletics Men's 1,500 metres          & Silver\\\\\n",
       "\t2 & 12563 & Conrad Helmut Fritz Bcker   & M & 25 &  NA & NA & Germany       & GER & 1896 Summer & 1896 & Summer & Athina & Gymnastics & Gymnastics Men's Parallel Bars, Teams & Gold  \\\\\n",
       "\t3 & 12929 & John Mary Pius Boland       & M & 25 &  NA & NA & Great Britain & GBR & 1896 Summer & 1896 & Summer & Athina & Tennis     & Tennis Men's Singles                  & Gold  \\\\\n",
       "\t4 & 16616 & Thomas Edmund \"Tom\" Burke   & M & 21 & 183 & 66 & United States & USA & 1896 Summer & 1896 & Summer & Athina & Athletics  & Athletics Men's 100 metres            & Gold  \\\\\n",
       "\t5 & 17492 & Eugne Henri Callot          & M & 20 &  NA & NA & France        & FRA & 1896 Summer & 1896 & Summer & Athina & Fencing    & Fencing Men's Foil, Individual        & Silver\\\\\n",
       "\t6 & 18785 & Demetrius Emmanuel Casdagli & M & 23 &  NA & NA & Greece        & GRE & 1896 Summer & 1896 & Summer & Athina & Tennis     & Tennis Men's Singles                  & Silver\\\\\n",
       "\\end{tabular}\n"
      ],
      "text/markdown": [
       "\n",
       "A data.frame: 6 × 15\n",
       "\n",
       "| <!--/--> | ID &lt;int&gt; | Name &lt;chr&gt; | Sex &lt;chr&gt; | Age &lt;int&gt; | Height &lt;int&gt; | Weight &lt;dbl&gt; | Team &lt;chr&gt; | NOC &lt;chr&gt; | Games &lt;chr&gt; | Year &lt;int&gt; | Season &lt;chr&gt; | City &lt;chr&gt; | Sport &lt;chr&gt; | Event &lt;chr&gt; | Medal &lt;chr&gt; |\n",
       "|---|---|---|---|---|---|---|---|---|---|---|---|---|---|---|---|\n",
       "| 1 | 12068 | Arthur Charles Blake        | M | 24 |  NA | NA | United States | USA | 1896 Summer | 1896 | Summer | Athina | Athletics  | Athletics Men's 1,500 metres          | Silver |\n",
       "| 2 | 12563 | Conrad Helmut Fritz Bcker   | M | 25 |  NA | NA | Germany       | GER | 1896 Summer | 1896 | Summer | Athina | Gymnastics | Gymnastics Men's Parallel Bars, Teams | Gold   |\n",
       "| 3 | 12929 | John Mary Pius Boland       | M | 25 |  NA | NA | Great Britain | GBR | 1896 Summer | 1896 | Summer | Athina | Tennis     | Tennis Men's Singles                  | Gold   |\n",
       "| 4 | 16616 | Thomas Edmund \"Tom\" Burke   | M | 21 | 183 | 66 | United States | USA | 1896 Summer | 1896 | Summer | Athina | Athletics  | Athletics Men's 100 metres            | Gold   |\n",
       "| 5 | 17492 | Eugne Henri Callot          | M | 20 |  NA | NA | France        | FRA | 1896 Summer | 1896 | Summer | Athina | Fencing    | Fencing Men's Foil, Individual        | Silver |\n",
       "| 6 | 18785 | Demetrius Emmanuel Casdagli | M | 23 |  NA | NA | Greece        | GRE | 1896 Summer | 1896 | Summer | Athina | Tennis     | Tennis Men's Singles                  | Silver |\n",
       "\n"
      ],
      "text/plain": [
       "  ID    Name                        Sex Age Height Weight Team          NOC\n",
       "1 12068 Arthur Charles Blake        M   24   NA    NA     United States USA\n",
       "2 12563 Conrad Helmut Fritz Bcker   M   25   NA    NA     Germany       GER\n",
       "3 12929 John Mary Pius Boland       M   25   NA    NA     Great Britain GBR\n",
       "4 16616 Thomas Edmund \"Tom\" Burke   M   21  183    66     United States USA\n",
       "5 17492 Eugne Henri Callot          M   20   NA    NA     France        FRA\n",
       "6 18785 Demetrius Emmanuel Casdagli M   23   NA    NA     Greece        GRE\n",
       "  Games       Year Season City   Sport     \n",
       "1 1896 Summer 1896 Summer Athina Athletics \n",
       "2 1896 Summer 1896 Summer Athina Gymnastics\n",
       "3 1896 Summer 1896 Summer Athina Tennis    \n",
       "4 1896 Summer 1896 Summer Athina Athletics \n",
       "5 1896 Summer 1896 Summer Athina Fencing   \n",
       "6 1896 Summer 1896 Summer Athina Tennis    \n",
       "  Event                                 Medal \n",
       "1 Athletics Men's 1,500 metres          Silver\n",
       "2 Gymnastics Men's Parallel Bars, Teams Gold  \n",
       "3 Tennis Men's Singles                  Gold  \n",
       "4 Athletics Men's 100 metres            Gold  \n",
       "5 Fencing Men's Foil, Individual        Silver\n",
       "6 Tennis Men's Singles                  Silver"
      ]
     },
     "metadata": {},
     "output_type": "display_data"
    }
   ],
   "source": [
    "winter_df <- first_time_only %>% \n",
    "    filter(Season == \"Winter\")\n",
    "\n",
    "summer_df <- first_time_only %>% \n",
    "    filter(Season == \"Summer\")\n",
    "\n",
    "head(winter_df)\n",
    "head(summer_df)"
   ]
  },
  {
   "cell_type": "code",
   "execution_count": 5,
   "id": "a7a5eed4-8b20-4c74-80b5-92c7b0f8dec3",
   "metadata": {},
   "outputs": [
    {
     "data": {
      "text/html": [
       "3658"
      ],
      "text/latex": [
       "3658"
      ],
      "text/markdown": [
       "3658"
      ],
      "text/plain": [
       "[1] 3658"
      ]
     },
     "metadata": {},
     "output_type": "display_data"
    }
   ],
   "source": [
    "nrow(winter_df)"
   ]
  },
  {
   "cell_type": "markdown",
   "id": "69d3c367-b082-43b5-93d1-da9f1b08ec55",
   "metadata": {},
   "source": [
    "## Calculations "
   ]
  },
  {
   "cell_type": "markdown",
   "id": "2f6219c3-1967-4a8f-99d0-ed964be1233a",
   "metadata": {},
   "source": [
    "If we are assuming that this dataset is 100% accurate and thus represent that entire population of all Olympic participants, then we could consider the dataset a population, and thus uncertainty would be 0%. However, in reality, if we were trying to gather this dataset ourselves, it is extremely unlikely as well as unfeasible to collect so many data points. Realistically, we would take a sample of this population, so we will will take an initial sample of 3000"
   ]
  },
  {
   "cell_type": "code",
   "execution_count": 6,
   "id": "6c4b66a6-74e5-4130-812f-eec1f7fed034",
   "metadata": {},
   "outputs": [
    {
     "data": {
      "text/html": [
       "<table class=\"dataframe\">\n",
       "<caption>A tibble: 6 × 15</caption>\n",
       "<thead>\n",
       "\t<tr><th scope=col>ID</th><th scope=col>Name</th><th scope=col>Sex</th><th scope=col>Age</th><th scope=col>Height</th><th scope=col>Weight</th><th scope=col>Team</th><th scope=col>NOC</th><th scope=col>Games</th><th scope=col>Year</th><th scope=col>Season</th><th scope=col>City</th><th scope=col>Sport</th><th scope=col>Event</th><th scope=col>Medal</th></tr>\n",
       "\t<tr><th scope=col>&lt;int&gt;</th><th scope=col>&lt;chr&gt;</th><th scope=col>&lt;chr&gt;</th><th scope=col>&lt;int&gt;</th><th scope=col>&lt;int&gt;</th><th scope=col>&lt;dbl&gt;</th><th scope=col>&lt;chr&gt;</th><th scope=col>&lt;chr&gt;</th><th scope=col>&lt;chr&gt;</th><th scope=col>&lt;int&gt;</th><th scope=col>&lt;chr&gt;</th><th scope=col>&lt;chr&gt;</th><th scope=col>&lt;chr&gt;</th><th scope=col>&lt;chr&gt;</th><th scope=col>&lt;chr&gt;</th></tr>\n",
       "</thead>\n",
       "<tbody>\n",
       "\t<tr><td>120549</td><td>Lyudmila Yevgenyevna Titova</td><td>F</td><td>21</td><td>176</td><td> 64</td><td>Soviet Union</td><td>URS</td><td>1968 Winter</td><td>1968</td><td>Winter</td><td>Grenoble         </td><td>Speed Skating   </td><td>Speed Skating Women's 500 metres</td><td>Gold  </td></tr>\n",
       "\t<tr><td> 76633</td><td>Andreas Matt               </td><td>M</td><td>27</td><td>192</td><td>100</td><td>Austria     </td><td>AUT</td><td>2010 Winter</td><td>2010</td><td>Winter</td><td>Vancouver        </td><td>Freestyle Skiing</td><td>Freestyle Skiing Men's Ski Cross</td><td>Silver</td></tr>\n",
       "\t<tr><td> 64837</td><td>Ilya Aleksandrovich Kulik  </td><td>M</td><td>20</td><td>179</td><td> 74</td><td>Russia      </td><td>RUS</td><td>1998 Winter</td><td>1998</td><td>Winter</td><td>Nagano           </td><td>Figure Skating  </td><td>Figure Skating Men's Singles    </td><td>Gold  </td></tr>\n",
       "\t<tr><td> 35490</td><td>Andrea Fischbacher         </td><td>F</td><td>24</td><td>164</td><td> 58</td><td>Austria     </td><td>AUT</td><td>2010 Winter</td><td>2010</td><td>Winter</td><td>Vancouver        </td><td>Alpine Skiing   </td><td>Alpine Skiing Women's Super G   </td><td>Gold  </td></tr>\n",
       "\t<tr><td> 81556</td><td>Eugenio Monti              </td><td>M</td><td>28</td><td>172</td><td> 73</td><td>Italy-2     </td><td>ITA</td><td>1956 Winter</td><td>1956</td><td>Winter</td><td>Cortina d'Ampezzo</td><td>Bobsleigh       </td><td>Bobsleigh Men's Two             </td><td>Silver</td></tr>\n",
       "\t<tr><td>133002</td><td>Jan Jelle Ykema            </td><td>M</td><td>24</td><td>181</td><td> 79</td><td>Netherlands </td><td>NED</td><td>1988 Winter</td><td>1988</td><td>Winter</td><td>Calgary          </td><td>Speed Skating   </td><td>Speed Skating Men's 500 metres  </td><td>Silver</td></tr>\n",
       "</tbody>\n",
       "</table>\n"
      ],
      "text/latex": [
       "A tibble: 6 × 15\n",
       "\\begin{tabular}{lllllllllllllll}\n",
       " ID & Name & Sex & Age & Height & Weight & Team & NOC & Games & Year & Season & City & Sport & Event & Medal\\\\\n",
       " <int> & <chr> & <chr> & <int> & <int> & <dbl> & <chr> & <chr> & <chr> & <int> & <chr> & <chr> & <chr> & <chr> & <chr>\\\\\n",
       "\\hline\n",
       "\t 120549 & Lyudmila Yevgenyevna Titova & F & 21 & 176 &  64 & Soviet Union & URS & 1968 Winter & 1968 & Winter & Grenoble          & Speed Skating    & Speed Skating Women's 500 metres & Gold  \\\\\n",
       "\t  76633 & Andreas Matt                & M & 27 & 192 & 100 & Austria      & AUT & 2010 Winter & 2010 & Winter & Vancouver         & Freestyle Skiing & Freestyle Skiing Men's Ski Cross & Silver\\\\\n",
       "\t  64837 & Ilya Aleksandrovich Kulik   & M & 20 & 179 &  74 & Russia       & RUS & 1998 Winter & 1998 & Winter & Nagano            & Figure Skating   & Figure Skating Men's Singles     & Gold  \\\\\n",
       "\t  35490 & Andrea Fischbacher          & F & 24 & 164 &  58 & Austria      & AUT & 2010 Winter & 2010 & Winter & Vancouver         & Alpine Skiing    & Alpine Skiing Women's Super G    & Gold  \\\\\n",
       "\t  81556 & Eugenio Monti               & M & 28 & 172 &  73 & Italy-2      & ITA & 1956 Winter & 1956 & Winter & Cortina d'Ampezzo & Bobsleigh        & Bobsleigh Men's Two              & Silver\\\\\n",
       "\t 133002 & Jan Jelle Ykema             & M & 24 & 181 &  79 & Netherlands  & NED & 1988 Winter & 1988 & Winter & Calgary           & Speed Skating    & Speed Skating Men's 500 metres   & Silver\\\\\n",
       "\\end{tabular}\n"
      ],
      "text/markdown": [
       "\n",
       "A tibble: 6 × 15\n",
       "\n",
       "| ID &lt;int&gt; | Name &lt;chr&gt; | Sex &lt;chr&gt; | Age &lt;int&gt; | Height &lt;int&gt; | Weight &lt;dbl&gt; | Team &lt;chr&gt; | NOC &lt;chr&gt; | Games &lt;chr&gt; | Year &lt;int&gt; | Season &lt;chr&gt; | City &lt;chr&gt; | Sport &lt;chr&gt; | Event &lt;chr&gt; | Medal &lt;chr&gt; |\n",
       "|---|---|---|---|---|---|---|---|---|---|---|---|---|---|---|\n",
       "| 120549 | Lyudmila Yevgenyevna Titova | F | 21 | 176 |  64 | Soviet Union | URS | 1968 Winter | 1968 | Winter | Grenoble          | Speed Skating    | Speed Skating Women's 500 metres | Gold   |\n",
       "|  76633 | Andreas Matt                | M | 27 | 192 | 100 | Austria      | AUT | 2010 Winter | 2010 | Winter | Vancouver         | Freestyle Skiing | Freestyle Skiing Men's Ski Cross | Silver |\n",
       "|  64837 | Ilya Aleksandrovich Kulik   | M | 20 | 179 |  74 | Russia       | RUS | 1998 Winter | 1998 | Winter | Nagano            | Figure Skating   | Figure Skating Men's Singles     | Gold   |\n",
       "|  35490 | Andrea Fischbacher          | F | 24 | 164 |  58 | Austria      | AUT | 2010 Winter | 2010 | Winter | Vancouver         | Alpine Skiing    | Alpine Skiing Women's Super G    | Gold   |\n",
       "|  81556 | Eugenio Monti               | M | 28 | 172 |  73 | Italy-2      | ITA | 1956 Winter | 1956 | Winter | Cortina d'Ampezzo | Bobsleigh        | Bobsleigh Men's Two              | Silver |\n",
       "| 133002 | Jan Jelle Ykema             | M | 24 | 181 |  79 | Netherlands  | NED | 1988 Winter | 1988 | Winter | Calgary           | Speed Skating    | Speed Skating Men's 500 metres   | Silver |\n",
       "\n"
      ],
      "text/plain": [
       "  ID     Name                        Sex Age Height Weight Team         NOC\n",
       "1 120549 Lyudmila Yevgenyevna Titova F   21  176     64    Soviet Union URS\n",
       "2  76633 Andreas Matt                M   27  192    100    Austria      AUT\n",
       "3  64837 Ilya Aleksandrovich Kulik   M   20  179     74    Russia       RUS\n",
       "4  35490 Andrea Fischbacher          F   24  164     58    Austria      AUT\n",
       "5  81556 Eugenio Monti               M   28  172     73    Italy-2      ITA\n",
       "6 133002 Jan Jelle Ykema             M   24  181     79    Netherlands  NED\n",
       "  Games       Year Season City              Sport           \n",
       "1 1968 Winter 1968 Winter Grenoble          Speed Skating   \n",
       "2 2010 Winter 2010 Winter Vancouver         Freestyle Skiing\n",
       "3 1998 Winter 1998 Winter Nagano            Figure Skating  \n",
       "4 2010 Winter 2010 Winter Vancouver         Alpine Skiing   \n",
       "5 1956 Winter 1956 Winter Cortina d'Ampezzo Bobsleigh       \n",
       "6 1988 Winter 1988 Winter Calgary           Speed Skating   \n",
       "  Event                            Medal \n",
       "1 Speed Skating Women's 500 metres Gold  \n",
       "2 Freestyle Skiing Men's Ski Cross Silver\n",
       "3 Figure Skating Men's Singles     Gold  \n",
       "4 Alpine Skiing Women's Super G    Gold  \n",
       "5 Bobsleigh Men's Two              Silver\n",
       "6 Speed Skating Men's 500 metres   Silver"
      ]
     },
     "metadata": {},
     "output_type": "display_data"
    }
   ],
   "source": [
    "winter_sample <- winter_df %>% \n",
    "    rep_sample_n(size = 1000, reps = 1) %>% \n",
    "    subset(select = -(replicate))\n",
    "\n",
    "summer_sample <- summer_df %>% \n",
    "    rep_sample_n(size = 1000, reps = 1) %>% \n",
    "    subset(select = -(replicate))\n",
    "\n",
    "head(winter_sample)"
   ]
  },
  {
   "cell_type": "markdown",
   "id": "b1474984-1318-486f-869f-8d6694c3cb35",
   "metadata": {},
   "source": [
    "From this, we can calculate our estimates of the mean for each season"
   ]
  },
  {
   "cell_type": "code",
   "execution_count": 7,
   "id": "48752455-70f6-4cab-b89c-c9116e13193b",
   "metadata": {},
   "outputs": [
    {
     "name": "stdout",
     "output_type": "stream",
     "text": [
      "[1] \"Winter Mean Estimtate: 24.855\"\n",
      "[1] \"Summer Mean Estimtate: 24.901\"\n"
     ]
    }
   ],
   "source": [
    "winter_mean_estimate <- mean(winter_sample$Age)\n",
    "summer_mean_estimate <- mean(summer_sample$Age)\n",
    "\n",
    "print(paste(\"Winter Mean Estimtate:\", winter_mean_estimate))\n",
    "print(paste(\"Summer Mean Estimtate:\", summer_mean_estimate))"
   ]
  },
  {
   "cell_type": "markdown",
   "id": "d561ee36-c069-4c37-8aba-c1c920db79d4",
   "metadata": {
    "tags": []
   },
   "source": [
    "## Sampling"
   ]
  },
  {
   "cell_type": "markdown",
   "id": "a8a36b70-2558-4a4b-a366-94d191fdf751",
   "metadata": {},
   "source": [
    "Then, we'll perform bootstrapping or resampling without replacement to calculate uncertainty later on"
   ]
  },
  {
   "cell_type": "code",
   "execution_count": 8,
   "id": "b35fbc63-2a97-494e-8f30-a0ca0e1b5e23",
   "metadata": {},
   "outputs": [
    {
     "data": {
      "text/html": [
       "<table class=\"dataframe\">\n",
       "<caption>A grouped_df: 6 × 16</caption>\n",
       "<thead>\n",
       "\t<tr><th scope=col>replicate</th><th scope=col>ID</th><th scope=col>Name</th><th scope=col>Sex</th><th scope=col>Age</th><th scope=col>Height</th><th scope=col>Weight</th><th scope=col>Team</th><th scope=col>NOC</th><th scope=col>Games</th><th scope=col>Year</th><th scope=col>Season</th><th scope=col>City</th><th scope=col>Sport</th><th scope=col>Event</th><th scope=col>Medal</th></tr>\n",
       "\t<tr><th scope=col>&lt;int&gt;</th><th scope=col>&lt;int&gt;</th><th scope=col>&lt;chr&gt;</th><th scope=col>&lt;chr&gt;</th><th scope=col>&lt;int&gt;</th><th scope=col>&lt;int&gt;</th><th scope=col>&lt;dbl&gt;</th><th scope=col>&lt;chr&gt;</th><th scope=col>&lt;chr&gt;</th><th scope=col>&lt;chr&gt;</th><th scope=col>&lt;int&gt;</th><th scope=col>&lt;chr&gt;</th><th scope=col>&lt;chr&gt;</th><th scope=col>&lt;chr&gt;</th><th scope=col>&lt;chr&gt;</th><th scope=col>&lt;chr&gt;</th></tr>\n",
       "</thead>\n",
       "<tbody>\n",
       "\t<tr><td>1</td><td>67717</td><td>Georges Marcel Lecointe   </td><td>M</td><td>26</td><td> NA</td><td>NA</td><td>France       </td><td>FRA</td><td>1924 Summer</td><td>1924</td><td>Summer</td><td>Paris      </td><td>Rowing    </td><td>Rowing Men's Coxed Fours                 </td><td>Silver</td></tr>\n",
       "\t<tr><td>1</td><td>99162</td><td>Jukka Matti Rauhala       </td><td>M</td><td>25</td><td>172</td><td>62</td><td>Finland      </td><td>FIN</td><td>1984 Summer</td><td>1984</td><td>Summer</td><td>Los Angeles</td><td>Wrestling </td><td>Wrestling Men's Lightweight, Freestyle   </td><td>Bronze</td></tr>\n",
       "\t<tr><td>1</td><td>29304</td><td>Alfred Dompert            </td><td>M</td><td>21</td><td>174</td><td>60</td><td>Germany      </td><td>GER</td><td>1936 Summer</td><td>1936</td><td>Summer</td><td>Berlin     </td><td>Athletics </td><td>Athletics Men's 3,000 metres Steeplechase</td><td>Bronze</td></tr>\n",
       "\t<tr><td>1</td><td>59173</td><td>Shahid Ali Khan           </td><td>M</td><td>19</td><td>170</td><td>60</td><td>Pakistan     </td><td>PAK</td><td>1984 Summer</td><td>1984</td><td>Summer</td><td>Los Angeles</td><td>Hockey    </td><td>Hockey Men's Hockey                      </td><td>Gold  </td></tr>\n",
       "\t<tr><td>1</td><td>21141</td><td>Rodolfo Choperena Irizarri</td><td>M</td><td>31</td><td> NA</td><td>NA</td><td>Mexico       </td><td>MEX</td><td>1936 Summer</td><td>1936</td><td>Summer</td><td>Berlin     </td><td>Basketball</td><td>Basketball Men's Basketball              </td><td>Bronze</td></tr>\n",
       "\t<tr><td>1</td><td>36784</td><td>Bernard Wallis Franklin   </td><td>M</td><td>22</td><td> NA</td><td>NA</td><td>Great Britain</td><td>GBR</td><td>1912 Summer</td><td>1912</td><td>Summer</td><td>Stockholm  </td><td>Gymnastics</td><td>Gymnastics Men's Team All-Around         </td><td>Bronze</td></tr>\n",
       "</tbody>\n",
       "</table>\n"
      ],
      "text/latex": [
       "A grouped\\_df: 6 × 16\n",
       "\\begin{tabular}{llllllllllllllll}\n",
       " replicate & ID & Name & Sex & Age & Height & Weight & Team & NOC & Games & Year & Season & City & Sport & Event & Medal\\\\\n",
       " <int> & <int> & <chr> & <chr> & <int> & <int> & <dbl> & <chr> & <chr> & <chr> & <int> & <chr> & <chr> & <chr> & <chr> & <chr>\\\\\n",
       "\\hline\n",
       "\t 1 & 67717 & Georges Marcel Lecointe    & M & 26 &  NA & NA & France        & FRA & 1924 Summer & 1924 & Summer & Paris       & Rowing     & Rowing Men's Coxed Fours                  & Silver\\\\\n",
       "\t 1 & 99162 & Jukka Matti Rauhala        & M & 25 & 172 & 62 & Finland       & FIN & 1984 Summer & 1984 & Summer & Los Angeles & Wrestling  & Wrestling Men's Lightweight, Freestyle    & Bronze\\\\\n",
       "\t 1 & 29304 & Alfred Dompert             & M & 21 & 174 & 60 & Germany       & GER & 1936 Summer & 1936 & Summer & Berlin      & Athletics  & Athletics Men's 3,000 metres Steeplechase & Bronze\\\\\n",
       "\t 1 & 59173 & Shahid Ali Khan            & M & 19 & 170 & 60 & Pakistan      & PAK & 1984 Summer & 1984 & Summer & Los Angeles & Hockey     & Hockey Men's Hockey                       & Gold  \\\\\n",
       "\t 1 & 21141 & Rodolfo Choperena Irizarri & M & 31 &  NA & NA & Mexico        & MEX & 1936 Summer & 1936 & Summer & Berlin      & Basketball & Basketball Men's Basketball               & Bronze\\\\\n",
       "\t 1 & 36784 & Bernard Wallis Franklin    & M & 22 &  NA & NA & Great Britain & GBR & 1912 Summer & 1912 & Summer & Stockholm   & Gymnastics & Gymnastics Men's Team All-Around          & Bronze\\\\\n",
       "\\end{tabular}\n"
      ],
      "text/markdown": [
       "\n",
       "A grouped_df: 6 × 16\n",
       "\n",
       "| replicate &lt;int&gt; | ID &lt;int&gt; | Name &lt;chr&gt; | Sex &lt;chr&gt; | Age &lt;int&gt; | Height &lt;int&gt; | Weight &lt;dbl&gt; | Team &lt;chr&gt; | NOC &lt;chr&gt; | Games &lt;chr&gt; | Year &lt;int&gt; | Season &lt;chr&gt; | City &lt;chr&gt; | Sport &lt;chr&gt; | Event &lt;chr&gt; | Medal &lt;chr&gt; |\n",
       "|---|---|---|---|---|---|---|---|---|---|---|---|---|---|---|---|\n",
       "| 1 | 67717 | Georges Marcel Lecointe    | M | 26 |  NA | NA | France        | FRA | 1924 Summer | 1924 | Summer | Paris       | Rowing     | Rowing Men's Coxed Fours                  | Silver |\n",
       "| 1 | 99162 | Jukka Matti Rauhala        | M | 25 | 172 | 62 | Finland       | FIN | 1984 Summer | 1984 | Summer | Los Angeles | Wrestling  | Wrestling Men's Lightweight, Freestyle    | Bronze |\n",
       "| 1 | 29304 | Alfred Dompert             | M | 21 | 174 | 60 | Germany       | GER | 1936 Summer | 1936 | Summer | Berlin      | Athletics  | Athletics Men's 3,000 metres Steeplechase | Bronze |\n",
       "| 1 | 59173 | Shahid Ali Khan            | M | 19 | 170 | 60 | Pakistan      | PAK | 1984 Summer | 1984 | Summer | Los Angeles | Hockey     | Hockey Men's Hockey                       | Gold   |\n",
       "| 1 | 21141 | Rodolfo Choperena Irizarri | M | 31 |  NA | NA | Mexico        | MEX | 1936 Summer | 1936 | Summer | Berlin      | Basketball | Basketball Men's Basketball               | Bronze |\n",
       "| 1 | 36784 | Bernard Wallis Franklin    | M | 22 |  NA | NA | Great Britain | GBR | 1912 Summer | 1912 | Summer | Stockholm   | Gymnastics | Gymnastics Men's Team All-Around          | Bronze |\n",
       "\n"
      ],
      "text/plain": [
       "  replicate ID    Name                       Sex Age Height Weight\n",
       "1 1         67717 Georges Marcel Lecointe    M   26   NA    NA    \n",
       "2 1         99162 Jukka Matti Rauhala        M   25  172    62    \n",
       "3 1         29304 Alfred Dompert             M   21  174    60    \n",
       "4 1         59173 Shahid Ali Khan            M   19  170    60    \n",
       "5 1         21141 Rodolfo Choperena Irizarri M   31   NA    NA    \n",
       "6 1         36784 Bernard Wallis Franklin    M   22   NA    NA    \n",
       "  Team          NOC Games       Year Season City        Sport     \n",
       "1 France        FRA 1924 Summer 1924 Summer Paris       Rowing    \n",
       "2 Finland       FIN 1984 Summer 1984 Summer Los Angeles Wrestling \n",
       "3 Germany       GER 1936 Summer 1936 Summer Berlin      Athletics \n",
       "4 Pakistan      PAK 1984 Summer 1984 Summer Los Angeles Hockey    \n",
       "5 Mexico        MEX 1936 Summer 1936 Summer Berlin      Basketball\n",
       "6 Great Britain GBR 1912 Summer 1912 Summer Stockholm   Gymnastics\n",
       "  Event                                     Medal \n",
       "1 Rowing Men's Coxed Fours                  Silver\n",
       "2 Wrestling Men's Lightweight, Freestyle    Bronze\n",
       "3 Athletics Men's 3,000 metres Steeplechase Bronze\n",
       "4 Hockey Men's Hockey                       Gold  \n",
       "5 Basketball Men's Basketball               Bronze\n",
       "6 Gymnastics Men's Team All-Around          Bronze"
      ]
     },
     "metadata": {},
     "output_type": "display_data"
    }
   ],
   "source": [
    "winter_bootstrap <- winter_sample %>% \n",
    "    rep_sample_n(size = 1000, reps = 200, replace = TRUE)\n",
    "\n",
    "summer_bootstrap <- summer_sample %>% \n",
    "    rep_sample_n(size = 1000, reps = 200, replace = TRUE)\n",
    "\n",
    "\n",
    "head(summer_bootstrap)"
   ]
  },
  {
   "cell_type": "markdown",
   "id": "e1469939-5f93-471b-b743-d84034ba89ab",
   "metadata": {},
   "source": [
    "Now, we will calculate the sample mean for each sample."
   ]
  },
  {
   "cell_type": "code",
   "execution_count": 9,
   "id": "5f970633-fb8c-4da5-909b-2de14ebed2a8",
   "metadata": {},
   "outputs": [
    {
     "data": {
      "text/html": [
       "<table class=\"dataframe\">\n",
       "<caption>A tibble: 6 × 2</caption>\n",
       "<thead>\n",
       "\t<tr><th scope=col>replicate</th><th scope=col>mean_age</th></tr>\n",
       "\t<tr><th scope=col>&lt;int&gt;</th><th scope=col>&lt;dbl&gt;</th></tr>\n",
       "</thead>\n",
       "<tbody>\n",
       "\t<tr><td>1</td><td>25.055</td></tr>\n",
       "\t<tr><td>2</td><td>24.919</td></tr>\n",
       "\t<tr><td>3</td><td>24.799</td></tr>\n",
       "\t<tr><td>4</td><td>24.938</td></tr>\n",
       "\t<tr><td>5</td><td>24.845</td></tr>\n",
       "\t<tr><td>6</td><td>24.923</td></tr>\n",
       "</tbody>\n",
       "</table>\n"
      ],
      "text/latex": [
       "A tibble: 6 × 2\n",
       "\\begin{tabular}{ll}\n",
       " replicate & mean\\_age\\\\\n",
       " <int> & <dbl>\\\\\n",
       "\\hline\n",
       "\t 1 & 25.055\\\\\n",
       "\t 2 & 24.919\\\\\n",
       "\t 3 & 24.799\\\\\n",
       "\t 4 & 24.938\\\\\n",
       "\t 5 & 24.845\\\\\n",
       "\t 6 & 24.923\\\\\n",
       "\\end{tabular}\n"
      ],
      "text/markdown": [
       "\n",
       "A tibble: 6 × 2\n",
       "\n",
       "| replicate &lt;int&gt; | mean_age &lt;dbl&gt; |\n",
       "|---|---|\n",
       "| 1 | 25.055 |\n",
       "| 2 | 24.919 |\n",
       "| 3 | 24.799 |\n",
       "| 4 | 24.938 |\n",
       "| 5 | 24.845 |\n",
       "| 6 | 24.923 |\n",
       "\n"
      ],
      "text/plain": [
       "  replicate mean_age\n",
       "1 1         25.055  \n",
       "2 2         24.919  \n",
       "3 3         24.799  \n",
       "4 4         24.938  \n",
       "5 5         24.845  \n",
       "6 6         24.923  "
      ]
     },
     "metadata": {},
     "output_type": "display_data"
    },
    {
     "data": {
      "text/html": [
       "<table class=\"dataframe\">\n",
       "<caption>A tibble: 6 × 2</caption>\n",
       "<thead>\n",
       "\t<tr><th scope=col>replicate</th><th scope=col>mean_age</th></tr>\n",
       "\t<tr><th scope=col>&lt;int&gt;</th><th scope=col>&lt;dbl&gt;</th></tr>\n",
       "</thead>\n",
       "<tbody>\n",
       "\t<tr><td>1</td><td>24.638</td></tr>\n",
       "\t<tr><td>2</td><td>24.907</td></tr>\n",
       "\t<tr><td>3</td><td>24.609</td></tr>\n",
       "\t<tr><td>4</td><td>25.172</td></tr>\n",
       "\t<tr><td>5</td><td>24.876</td></tr>\n",
       "\t<tr><td>6</td><td>24.798</td></tr>\n",
       "</tbody>\n",
       "</table>\n"
      ],
      "text/latex": [
       "A tibble: 6 × 2\n",
       "\\begin{tabular}{ll}\n",
       " replicate & mean\\_age\\\\\n",
       " <int> & <dbl>\\\\\n",
       "\\hline\n",
       "\t 1 & 24.638\\\\\n",
       "\t 2 & 24.907\\\\\n",
       "\t 3 & 24.609\\\\\n",
       "\t 4 & 25.172\\\\\n",
       "\t 5 & 24.876\\\\\n",
       "\t 6 & 24.798\\\\\n",
       "\\end{tabular}\n"
      ],
      "text/markdown": [
       "\n",
       "A tibble: 6 × 2\n",
       "\n",
       "| replicate &lt;int&gt; | mean_age &lt;dbl&gt; |\n",
       "|---|---|\n",
       "| 1 | 24.638 |\n",
       "| 2 | 24.907 |\n",
       "| 3 | 24.609 |\n",
       "| 4 | 25.172 |\n",
       "| 5 | 24.876 |\n",
       "| 6 | 24.798 |\n",
       "\n"
      ],
      "text/plain": [
       "  replicate mean_age\n",
       "1 1         24.638  \n",
       "2 2         24.907  \n",
       "3 3         24.609  \n",
       "4 4         25.172  \n",
       "5 5         24.876  \n",
       "6 6         24.798  "
      ]
     },
     "metadata": {},
     "output_type": "display_data"
    }
   ],
   "source": [
    "winter_resampled_means <- winter_bootstrap %>% \n",
    "    group_by(replicate) %>% \n",
    "    summarize(mean_age = mean(Age))\n",
    "\n",
    "summer_resampled_means <- summer_bootstrap %>% \n",
    "    group_by(replicate) %>% \n",
    "    summarize(mean_age = mean(Age))\n",
    "\n",
    "head(winter_resampled_means)\n",
    "head(summer_resampled_means)\n",
    "## TODO: CAN SOMEONE PLEASE FIND A WAY TO DISPLAY THESE TWO TABLES SIDE BY SIDE IT'S DRIVING ME NUTS"
   ]
  },
  {
   "cell_type": "markdown",
   "id": "59d48c81-d2d3-4c7a-962b-4ffb319cb271",
   "metadata": {},
   "source": [
    "## Visualizations"
   ]
  },
  {
   "cell_type": "markdown",
   "id": "b3ca5654-5ca4-40c5-9182-17e378e2c630",
   "metadata": {},
   "source": [
    "Let's first remind ourselves of our calculated estimates"
   ]
  },
  {
   "cell_type": "code",
   "execution_count": 10,
   "id": "92f5df3e-899d-4702-9a3f-49199bd27a1e",
   "metadata": {},
   "outputs": [
    {
     "data": {
      "text/html": [
       "<table class=\"dataframe\">\n",
       "<caption>A data.frame: 2 × 2</caption>\n",
       "<thead>\n",
       "\t<tr><th scope=col>name</th><th scope=col>values</th></tr>\n",
       "\t<tr><th scope=col>&lt;chr&gt;</th><th scope=col>&lt;dbl&gt;</th></tr>\n",
       "</thead>\n",
       "<tbody>\n",
       "\t<tr><td>Winter Mean Esimtate</td><td>24.855</td></tr>\n",
       "\t<tr><td>Summer Mean Estimate</td><td>24.901</td></tr>\n",
       "</tbody>\n",
       "</table>\n"
      ],
      "text/latex": [
       "A data.frame: 2 × 2\n",
       "\\begin{tabular}{ll}\n",
       " name & values\\\\\n",
       " <chr> & <dbl>\\\\\n",
       "\\hline\n",
       "\t Winter Mean Esimtate & 24.855\\\\\n",
       "\t Summer Mean Estimate & 24.901\\\\\n",
       "\\end{tabular}\n"
      ],
      "text/markdown": [
       "\n",
       "A data.frame: 2 × 2\n",
       "\n",
       "| name &lt;chr&gt; | values &lt;dbl&gt; |\n",
       "|---|---|\n",
       "| Winter Mean Esimtate | 24.855 |\n",
       "| Summer Mean Estimate | 24.901 |\n",
       "\n"
      ],
      "text/plain": [
       "  name                 values\n",
       "1 Winter Mean Esimtate 24.855\n",
       "2 Summer Mean Estimate 24.901"
      ]
     },
     "metadata": {},
     "output_type": "display_data"
    }
   ],
   "source": [
    "name <- c(\"Winter Mean Esimtate\", \"Summer Mean Estimate\")\n",
    "values <- c(winter_mean_estimate, summer_mean_estimate)\n",
    "\n",
    "tab <- data.frame(name, values)\n",
    "tab"
   ]
  },
  {
   "cell_type": "code",
   "execution_count": 11,
   "id": "65255855-bd15-4526-b768-34ee15b1e001",
   "metadata": {},
   "outputs": [
    {
     "name": "stderr",
     "output_type": "stream",
     "text": [
      "`stat_bin()` using `bins = 30`. Pick better value with `binwidth`.\n",
      "\n",
      "`stat_bin()` using `bins = 30`. Pick better value with `binwidth`.\n",
      "\n"
     ]
    },
    {
     "data": {
      "image/png": "[encoded data removed]",
      "text/plain": [
       "plot without title"
      ]
     },
     "metadata": {
      "image/png": {
       "height": 420,
       "width": 420
      }
     },
     "output_type": "display_data"
    },
    {
     "data": {
      "image/png": "[encoded data removed]",
      "text/plain": [
       "plot without title"
      ]
     },
     "metadata": {
      "image/png": {
       "height": 420,
       "width": 420
      }
     },
     "output_type": "display_data"
    }
   ],
   "source": [
    "## TODO: tien can you basically plot the distribution of the samples above, then add all the fancy functions you did below\n",
    "# play with the bins so you can get a better looking curve lmao\n",
    "# any chance you can put the plots side by side so we don't have to scroll? Try it out if it doesn't work forget about it\n",
    "winter_resampled_means  %>% \n",
    "    ggplot(aes(x = mean_age)) + \n",
    "    geom_histogram()\n",
    "\n",
    "summer_resampled_means  %>% \n",
    "    ggplot(aes(x = mean_age)) + \n",
    "    geom_histogram()"
   ]
  },
  {
   "cell_type": "code",
   "execution_count": 12,
   "id": "7bdf65e6-03bb-465f-ae6a-78ea0d4ceb71",
   "metadata": {},
   "outputs": [
    {
     "data": {
      "image/png": "[encoded data removed]",
      "text/plain": [
       "plot without title"
      ]
     },
     "metadata": {
      "image/png": {
       "height": 420,
       "width": 420
      }
     },
     "output_type": "display_data"
    },
    {
     "data": {
      "image/png": "[encoded data removed]",
      "text/plain": [
       "plot without title"
      ]
     },
     "metadata": {
      "image/png": {
       "height": 420,
       "width": 420
      }
     },
     "output_type": "display_data"
    }
   ],
   "source": [
    "# histograms layered with Gaussian distribution curve, the height of each bar rerpresent the count.\n",
    "# since it is layered with the bell curve, the count also represent the repsective probability.\n",
    "\n",
    "\n",
    "winter_df %>%\n",
    "        ggplot(aes(x=Age)) +\n",
    "        geom_histogram(aes(y=..density..),binwidth=1, color=\"white\", alpha=0.5) +\n",
    "        stat_function(fun=dnorm, color=\"red\", args=list(mean=mean(winter_df$Age), \n",
    "                                                        sd=sd(winter_df$Age))) +\n",
    "        geom_vline(xintercept = mean(winter_df$Age), color=\"blue\") +\n",
    "        geom_text(aes(x = mean(winter_df$Age), \n",
    "                      y=-0.001, \n",
    "                      label=paste0(\"Mean = \", mean(winter_df$Age))),\n",
    "                  color=\"blue\") +\n",
    "        labs(x=\"Age\", y=\"Probability density\", title=\"Distribution of Age in Winter Olympics\")\n",
    "\n",
    "summer_df %>%\n",
    "        ggplot(aes(x=Age)) +\n",
    "        geom_histogram(aes(y=..density..),binwidth=1, color=\"white\", alpha=0.5) +\n",
    "        stat_function(fun=dnorm, color=\"red\", args=list(mean=mean(summer_df$Age), \n",
    "                                                        sd=sd(summer_df$Age))) +\n",
    "        geom_vline(xintercept = mean(summer_df$Age), color=\"blue\") +\n",
    "        geom_text(aes(x = mean(summer_df$Age), \n",
    "                      y=-0.001, \n",
    "                      label=paste0(\"Mean = \", mean(summer_df$Age))),\n",
    "                  color=\"blue\") +\n",
    "        labs(x=\"Age\", y=\"Probability density\", title=\"Distribution of Age in Summer Olympics\")\n"
   ]
  }
 ],
 "metadata": {
  "kernelspec": {
   "display_name": "R",
   "language": "R",
   "name": "ir"
  },
  "language_info": {
   "codemirror_mode": "r",
   "file_extension": ".r",
   "mimetype": "text/x-r-source",
   "name": "R",
   "pygments_lexer": "r",
   "version": "4.0.3"
  }
 },
 "nbformat": 4,
 "nbformat_minor": 5
}
