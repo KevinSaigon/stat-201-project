{
 "cells": [
  {
   "cell_type": "markdown",
   "id": "7dc09c6e-7077-4d65-8b9f-18b6523d0721",
   "metadata": {},
   "source": [
    "# Preliminary Results"
   ]
  },
  {
   "cell_type": "markdown",
   "id": "33848774-d676-4d50-a016-657acd6282fe",
   "metadata": {},
   "source": [
    "## Load Libraries"
   ]
  },
  {
   "cell_type": "code",
   "execution_count": 1,
   "id": "75fc5472-76e4-4e7a-a5d6-032c943313ba",
   "metadata": {},
   "outputs": [],
   "source": [
    "## code to get rid of warnings\n",
    "defaultW <- getOption(\"warn\") \n",
    "options(warn = -1) \n",
    "##\n",
    "\n",
    "suppressPackageStartupMessages(library(tidyverse))\n",
    "library(repr)\n",
    "library(digest)\n",
    "library(infer)\n",
    "suppressPackageStartupMessages(library(gridExtra))\n",
    "library(cowplot)"
   ]
  },
  {
   "cell_type": "markdown",
   "id": "049dad31-f96c-432a-b277-862930e7306d",
   "metadata": {},
   "source": [
    "## Data Intake and Pre-Processing"
   ]
  },
  {
   "cell_type": "markdown",
   "id": "f00adcde-75e8-4aa6-bb57-49ea111a77ce",
   "metadata": {},
   "source": [
    "First, we will read in the dataset. The code here assumes you've downloaded the dataset and placed them into a data folder. If you would like to run our code and follow along, please clone our GitHub repository [here](https://github.com/KevinSaigon/stat-201-project)"
   ]
  },
  {
   "cell_type": "code",
   "execution_count": 2,
   "id": "2716a1ca-b751-49f0-a8de-6b3a277a0a43",
   "metadata": {},
   "outputs": [],
   "source": [
    "data <- read.csv(file = \"data/athlete_events.csv\")\n",
    "# website says \"Demonstrate that the dataset can be read from the web into R.\" - is local files okay? Ask on Monday"
   ]
  },
  {
   "cell_type": "markdown",
   "id": "8f5987d2-3236-4b5c-a864-459bd2961acd",
   "metadata": {},
   "source": [
    "We will then do some pre-processing to get rid of any athlete whose age is is not known as well as filter out ones who did not win gold medals. \n",
    "\n",
    "The next step was then to only count first-time wins for multiple-time medal winners (i.e Michael Phelps). The code below essentially only keep the first occurrence of an athlete's ID, and since we sorted the dataframe by Year, this equates to the athlete's first time winning the gold medal."
   ]
  },
  {
   "cell_type": "code",
   "execution_count": 3,
   "id": "b72761a0-c9f8-409c-8aeb-54976ffb0153",
   "metadata": {},
   "outputs": [
    {
     "data": {
      "text/html": [
       "<table class=\"dataframe\">\n",
       "<caption>A data.frame: 6 × 15</caption>\n",
       "<thead>\n",
       "\t<tr><th></th><th scope=col>ID</th><th scope=col>Name</th><th scope=col>Sex</th><th scope=col>Age</th><th scope=col>Height</th><th scope=col>Weight</th><th scope=col>Team</th><th scope=col>NOC</th><th scope=col>Games</th><th scope=col>Year</th><th scope=col>Season</th><th scope=col>City</th><th scope=col>Sport</th><th scope=col>Event</th><th scope=col>Medal</th></tr>\n",
       "\t<tr><th></th><th scope=col>&lt;int&gt;</th><th scope=col>&lt;chr&gt;</th><th scope=col>&lt;chr&gt;</th><th scope=col>&lt;int&gt;</th><th scope=col>&lt;int&gt;</th><th scope=col>&lt;dbl&gt;</th><th scope=col>&lt;chr&gt;</th><th scope=col>&lt;chr&gt;</th><th scope=col>&lt;chr&gt;</th><th scope=col>&lt;int&gt;</th><th scope=col>&lt;chr&gt;</th><th scope=col>&lt;chr&gt;</th><th scope=col>&lt;chr&gt;</th><th scope=col>&lt;chr&gt;</th><th scope=col>&lt;chr&gt;</th></tr>\n",
       "</thead>\n",
       "<tbody>\n",
       "\t<tr><th scope=row>1</th><td>12068</td><td>Arthur Charles Blake       </td><td>M</td><td>24</td><td> NA</td><td>NA</td><td>United States</td><td>USA</td><td>1896 Summer</td><td>1896</td><td>Summer</td><td>Athina</td><td>Athletics </td><td>Athletics Men's 1,500 metres         </td><td>Silver</td></tr>\n",
       "\t<tr><th scope=row>2</th><td>12563</td><td>Conrad Helmut Fritz Bcker  </td><td>M</td><td>25</td><td> NA</td><td>NA</td><td>Germany      </td><td>GER</td><td>1896 Summer</td><td>1896</td><td>Summer</td><td>Athina</td><td>Gymnastics</td><td>Gymnastics Men's Parallel Bars, Teams</td><td>Gold  </td></tr>\n",
       "\t<tr><th scope=row>4</th><td>12929</td><td>John Mary Pius Boland      </td><td>M</td><td>25</td><td> NA</td><td>NA</td><td>Great Britain</td><td>GBR</td><td>1896 Summer</td><td>1896</td><td>Summer</td><td>Athina</td><td>Tennis    </td><td>Tennis Men's Singles                 </td><td>Gold  </td></tr>\n",
       "\t<tr><th scope=row>6</th><td>16616</td><td>Thomas Edmund \"Tom\" Burke  </td><td>M</td><td>21</td><td>183</td><td>66</td><td>United States</td><td>USA</td><td>1896 Summer</td><td>1896</td><td>Summer</td><td>Athina</td><td>Athletics </td><td>Athletics Men's 100 metres           </td><td>Gold  </td></tr>\n",
       "\t<tr><th scope=row>8</th><td>17492</td><td>Eugne Henri Callot         </td><td>M</td><td>20</td><td> NA</td><td>NA</td><td>France       </td><td>FRA</td><td>1896 Summer</td><td>1896</td><td>Summer</td><td>Athina</td><td>Fencing   </td><td>Fencing Men's Foil, Individual       </td><td>Silver</td></tr>\n",
       "\t<tr><th scope=row>9</th><td>18785</td><td>Demetrius Emmanuel Casdagli</td><td>M</td><td>23</td><td> NA</td><td>NA</td><td>Greece       </td><td>GRE</td><td>1896 Summer</td><td>1896</td><td>Summer</td><td>Athina</td><td>Tennis    </td><td>Tennis Men's Singles                 </td><td>Silver</td></tr>\n",
       "</tbody>\n",
       "</table>\n"
      ],
      "text/latex": [
       "A data.frame: 6 × 15\n",
       "\\begin{tabular}{r|lllllllllllllll}\n",
       "  & ID & Name & Sex & Age & Height & Weight & Team & NOC & Games & Year & Season & City & Sport & Event & Medal\\\\\n",
       "  & <int> & <chr> & <chr> & <int> & <int> & <dbl> & <chr> & <chr> & <chr> & <int> & <chr> & <chr> & <chr> & <chr> & <chr>\\\\\n",
       "\\hline\n",
       "\t1 & 12068 & Arthur Charles Blake        & M & 24 &  NA & NA & United States & USA & 1896 Summer & 1896 & Summer & Athina & Athletics  & Athletics Men's 1,500 metres          & Silver\\\\\n",
       "\t2 & 12563 & Conrad Helmut Fritz Bcker   & M & 25 &  NA & NA & Germany       & GER & 1896 Summer & 1896 & Summer & Athina & Gymnastics & Gymnastics Men's Parallel Bars, Teams & Gold  \\\\\n",
       "\t4 & 12929 & John Mary Pius Boland       & M & 25 &  NA & NA & Great Britain & GBR & 1896 Summer & 1896 & Summer & Athina & Tennis     & Tennis Men's Singles                  & Gold  \\\\\n",
       "\t6 & 16616 & Thomas Edmund \"Tom\" Burke   & M & 21 & 183 & 66 & United States & USA & 1896 Summer & 1896 & Summer & Athina & Athletics  & Athletics Men's 100 metres            & Gold  \\\\\n",
       "\t8 & 17492 & Eugne Henri Callot          & M & 20 &  NA & NA & France        & FRA & 1896 Summer & 1896 & Summer & Athina & Fencing    & Fencing Men's Foil, Individual        & Silver\\\\\n",
       "\t9 & 18785 & Demetrius Emmanuel Casdagli & M & 23 &  NA & NA & Greece        & GRE & 1896 Summer & 1896 & Summer & Athina & Tennis     & Tennis Men's Singles                  & Silver\\\\\n",
       "\\end{tabular}\n"
      ],
      "text/markdown": [
       "\n",
       "A data.frame: 6 × 15\n",
       "\n",
       "| <!--/--> | ID &lt;int&gt; | Name &lt;chr&gt; | Sex &lt;chr&gt; | Age &lt;int&gt; | Height &lt;int&gt; | Weight &lt;dbl&gt; | Team &lt;chr&gt; | NOC &lt;chr&gt; | Games &lt;chr&gt; | Year &lt;int&gt; | Season &lt;chr&gt; | City &lt;chr&gt; | Sport &lt;chr&gt; | Event &lt;chr&gt; | Medal &lt;chr&gt; |\n",
       "|---|---|---|---|---|---|---|---|---|---|---|---|---|---|---|---|\n",
       "| 1 | 12068 | Arthur Charles Blake        | M | 24 |  NA | NA | United States | USA | 1896 Summer | 1896 | Summer | Athina | Athletics  | Athletics Men's 1,500 metres          | Silver |\n",
       "| 2 | 12563 | Conrad Helmut Fritz Bcker   | M | 25 |  NA | NA | Germany       | GER | 1896 Summer | 1896 | Summer | Athina | Gymnastics | Gymnastics Men's Parallel Bars, Teams | Gold   |\n",
       "| 4 | 12929 | John Mary Pius Boland       | M | 25 |  NA | NA | Great Britain | GBR | 1896 Summer | 1896 | Summer | Athina | Tennis     | Tennis Men's Singles                  | Gold   |\n",
       "| 6 | 16616 | Thomas Edmund \"Tom\" Burke   | M | 21 | 183 | 66 | United States | USA | 1896 Summer | 1896 | Summer | Athina | Athletics  | Athletics Men's 100 metres            | Gold   |\n",
       "| 8 | 17492 | Eugne Henri Callot          | M | 20 |  NA | NA | France        | FRA | 1896 Summer | 1896 | Summer | Athina | Fencing    | Fencing Men's Foil, Individual        | Silver |\n",
       "| 9 | 18785 | Demetrius Emmanuel Casdagli | M | 23 |  NA | NA | Greece        | GRE | 1896 Summer | 1896 | Summer | Athina | Tennis     | Tennis Men's Singles                  | Silver |\n",
       "\n"
      ],
      "text/plain": [
       "  ID    Name                        Sex Age Height Weight Team          NOC\n",
       "1 12068 Arthur Charles Blake        M   24   NA    NA     United States USA\n",
       "2 12563 Conrad Helmut Fritz Bcker   M   25   NA    NA     Germany       GER\n",
       "4 12929 John Mary Pius Boland       M   25   NA    NA     Great Britain GBR\n",
       "6 16616 Thomas Edmund \"Tom\" Burke   M   21  183    66     United States USA\n",
       "8 17492 Eugne Henri Callot          M   20   NA    NA     France        FRA\n",
       "9 18785 Demetrius Emmanuel Casdagli M   23   NA    NA     Greece        GRE\n",
       "  Games       Year Season City   Sport     \n",
       "1 1896 Summer 1896 Summer Athina Athletics \n",
       "2 1896 Summer 1896 Summer Athina Gymnastics\n",
       "4 1896 Summer 1896 Summer Athina Tennis    \n",
       "6 1896 Summer 1896 Summer Athina Athletics \n",
       "8 1896 Summer 1896 Summer Athina Fencing   \n",
       "9 1896 Summer 1896 Summer Athina Tennis    \n",
       "  Event                                 Medal \n",
       "1 Athletics Men's 1,500 metres          Silver\n",
       "2 Gymnastics Men's Parallel Bars, Teams Gold  \n",
       "4 Tennis Men's Singles                  Gold  \n",
       "6 Athletics Men's 100 metres            Gold  \n",
       "8 Fencing Men's Foil, Individual        Silver\n",
       "9 Tennis Men's Singles                  Silver"
      ]
     },
     "metadata": {},
     "output_type": "display_data"
    }
   ],
   "source": [
    "processed_df <- data[order(data$Year),]  %>% \n",
    "    filter(!is.na(Age)) %>% # get rid of NA/Age\n",
    "    filter(!is.na(Medal)) #  get rid of anyone who didn't win a medal either\n",
    "\n",
    "first_time_only <- processed_df[match(unique(processed_df$ID), processed_df$ID),] # only first time winners now, if they won a second time, it was excluded\n",
    "    \n",
    "head(first_time_only)"
   ]
  },
  {
   "cell_type": "markdown",
   "id": "bb485f6d-5866-429a-a96c-cefcf4a8965e",
   "metadata": {},
   "source": [
    "Next, we will split the dataset by their Season, the winter Olympics vs the summer Olympics"
   ]
  },
  {
   "cell_type": "code",
   "execution_count": 4,
   "id": "6c2fa68b-6c23-4e47-9ed7-b6b29a406bbf",
   "metadata": {},
   "outputs": [
    {
     "data": {
      "text/html": [
       "<table class=\"dataframe\">\n",
       "<caption>A data.frame: 6 × 15</caption>\n",
       "<thead>\n",
       "\t<tr><th></th><th scope=col>ID</th><th scope=col>Name</th><th scope=col>Sex</th><th scope=col>Age</th><th scope=col>Height</th><th scope=col>Weight</th><th scope=col>Team</th><th scope=col>NOC</th><th scope=col>Games</th><th scope=col>Year</th><th scope=col>Season</th><th scope=col>City</th><th scope=col>Sport</th><th scope=col>Event</th><th scope=col>Medal</th></tr>\n",
       "\t<tr><th></th><th scope=col>&lt;int&gt;</th><th scope=col>&lt;chr&gt;</th><th scope=col>&lt;chr&gt;</th><th scope=col>&lt;int&gt;</th><th scope=col>&lt;int&gt;</th><th scope=col>&lt;dbl&gt;</th><th scope=col>&lt;chr&gt;</th><th scope=col>&lt;chr&gt;</th><th scope=col>&lt;chr&gt;</th><th scope=col>&lt;int&gt;</th><th scope=col>&lt;chr&gt;</th><th scope=col>&lt;chr&gt;</th><th scope=col>&lt;chr&gt;</th><th scope=col>&lt;chr&gt;</th><th scope=col>&lt;chr&gt;</th></tr>\n",
       "</thead>\n",
       "<tbody>\n",
       "\t<tr><th scope=row>1</th><td> 391</td><td>Clarence John Abel           </td><td>M</td><td>23</td><td>185</td><td>102</td><td>United States  </td><td>USA</td><td>1924 Winter</td><td>1924</td><td>Winter</td><td>Chamonix</td><td>Ice Hockey         </td><td>Ice Hockey Men's Ice Hockey                  </td><td>Silver</td></tr>\n",
       "\t<tr><th scope=row>2</th><td>1341</td><td>Johan Petter hln (Andersson-)</td><td>M</td><td>44</td><td> NA</td><td> NA</td><td>Sweden         </td><td>SWE</td><td>1924 Winter</td><td>1924</td><td>Winter</td><td>Chamonix</td><td>Curling            </td><td>Curling Men's Curling                        </td><td>Silver</td></tr>\n",
       "\t<tr><th scope=row>3</th><td>3872</td><td>William Harding Anderson     </td><td>M</td><td>22</td><td> NA</td><td> NA</td><td>Great Britain  </td><td>GBR</td><td>1924 Winter</td><td>1924</td><td>Winter</td><td>Chamonix</td><td>Ice Hockey         </td><td>Ice Hockey Men's Ice Hockey                  </td><td>Bronze</td></tr>\n",
       "\t<tr><th scope=row>4</th><td>4060</td><td>Georges Jules Andr           </td><td>M</td><td>47</td><td> NA</td><td> NA</td><td>France         </td><td>FRA</td><td>1924 Winter</td><td>1924</td><td>Winter</td><td>Chamonix</td><td>Curling            </td><td>Curling Men's Curling                        </td><td>Bronze</td></tr>\n",
       "\t<tr><th scope=row>5</th><td>5232</td><td>Thomas Alfred Arnold         </td><td>M</td><td>22</td><td> NA</td><td> NA</td><td>Great Britain-1</td><td>GBR</td><td>1924 Winter</td><td>1924</td><td>Winter</td><td>Chamonix</td><td>Bobsleigh          </td><td>Bobsleigh Men's Four/Five                    </td><td>Silver</td></tr>\n",
       "\t<tr><th scope=row>6</th><td>5932</td><td>Alfred Aufdenblatten         </td><td>M</td><td>26</td><td> NA</td><td> NA</td><td>Switzerland    </td><td>SUI</td><td>1924 Winter</td><td>1924</td><td>Winter</td><td>Chamonix</td><td>Military Ski Patrol</td><td>Military Ski Patrol Men's Military Ski Patrol</td><td>Gold  </td></tr>\n",
       "</tbody>\n",
       "</table>\n"
      ],
      "text/latex": [
       "A data.frame: 6 × 15\n",
       "\\begin{tabular}{r|lllllllllllllll}\n",
       "  & ID & Name & Sex & Age & Height & Weight & Team & NOC & Games & Year & Season & City & Sport & Event & Medal\\\\\n",
       "  & <int> & <chr> & <chr> & <int> & <int> & <dbl> & <chr> & <chr> & <chr> & <int> & <chr> & <chr> & <chr> & <chr> & <chr>\\\\\n",
       "\\hline\n",
       "\t1 &  391 & Clarence John Abel            & M & 23 & 185 & 102 & United States   & USA & 1924 Winter & 1924 & Winter & Chamonix & Ice Hockey          & Ice Hockey Men's Ice Hockey                   & Silver\\\\\n",
       "\t2 & 1341 & Johan Petter hln (Andersson-) & M & 44 &  NA &  NA & Sweden          & SWE & 1924 Winter & 1924 & Winter & Chamonix & Curling             & Curling Men's Curling                         & Silver\\\\\n",
       "\t3 & 3872 & William Harding Anderson      & M & 22 &  NA &  NA & Great Britain   & GBR & 1924 Winter & 1924 & Winter & Chamonix & Ice Hockey          & Ice Hockey Men's Ice Hockey                   & Bronze\\\\\n",
       "\t4 & 4060 & Georges Jules Andr            & M & 47 &  NA &  NA & France          & FRA & 1924 Winter & 1924 & Winter & Chamonix & Curling             & Curling Men's Curling                         & Bronze\\\\\n",
       "\t5 & 5232 & Thomas Alfred Arnold          & M & 22 &  NA &  NA & Great Britain-1 & GBR & 1924 Winter & 1924 & Winter & Chamonix & Bobsleigh           & Bobsleigh Men's Four/Five                     & Silver\\\\\n",
       "\t6 & 5932 & Alfred Aufdenblatten          & M & 26 &  NA &  NA & Switzerland     & SUI & 1924 Winter & 1924 & Winter & Chamonix & Military Ski Patrol & Military Ski Patrol Men's Military Ski Patrol & Gold  \\\\\n",
       "\\end{tabular}\n"
      ],
      "text/markdown": [
       "\n",
       "A data.frame: 6 × 15\n",
       "\n",
       "| <!--/--> | ID &lt;int&gt; | Name &lt;chr&gt; | Sex &lt;chr&gt; | Age &lt;int&gt; | Height &lt;int&gt; | Weight &lt;dbl&gt; | Team &lt;chr&gt; | NOC &lt;chr&gt; | Games &lt;chr&gt; | Year &lt;int&gt; | Season &lt;chr&gt; | City &lt;chr&gt; | Sport &lt;chr&gt; | Event &lt;chr&gt; | Medal &lt;chr&gt; |\n",
       "|---|---|---|---|---|---|---|---|---|---|---|---|---|---|---|---|\n",
       "| 1 |  391 | Clarence John Abel            | M | 23 | 185 | 102 | United States   | USA | 1924 Winter | 1924 | Winter | Chamonix | Ice Hockey          | Ice Hockey Men's Ice Hockey                   | Silver |\n",
       "| 2 | 1341 | Johan Petter hln (Andersson-) | M | 44 |  NA |  NA | Sweden          | SWE | 1924 Winter | 1924 | Winter | Chamonix | Curling             | Curling Men's Curling                         | Silver |\n",
       "| 3 | 3872 | William Harding Anderson      | M | 22 |  NA |  NA | Great Britain   | GBR | 1924 Winter | 1924 | Winter | Chamonix | Ice Hockey          | Ice Hockey Men's Ice Hockey                   | Bronze |\n",
       "| 4 | 4060 | Georges Jules Andr            | M | 47 |  NA |  NA | France          | FRA | 1924 Winter | 1924 | Winter | Chamonix | Curling             | Curling Men's Curling                         | Bronze |\n",
       "| 5 | 5232 | Thomas Alfred Arnold          | M | 22 |  NA |  NA | Great Britain-1 | GBR | 1924 Winter | 1924 | Winter | Chamonix | Bobsleigh           | Bobsleigh Men's Four/Five                     | Silver |\n",
       "| 6 | 5932 | Alfred Aufdenblatten          | M | 26 |  NA |  NA | Switzerland     | SUI | 1924 Winter | 1924 | Winter | Chamonix | Military Ski Patrol | Military Ski Patrol Men's Military Ski Patrol | Gold   |\n",
       "\n"
      ],
      "text/plain": [
       "  ID   Name                          Sex Age Height Weight Team            NOC\n",
       "1  391 Clarence John Abel            M   23  185    102    United States   USA\n",
       "2 1341 Johan Petter hln (Andersson-) M   44   NA     NA    Sweden          SWE\n",
       "3 3872 William Harding Anderson      M   22   NA     NA    Great Britain   GBR\n",
       "4 4060 Georges Jules Andr            M   47   NA     NA    France          FRA\n",
       "5 5232 Thomas Alfred Arnold          M   22   NA     NA    Great Britain-1 GBR\n",
       "6 5932 Alfred Aufdenblatten          M   26   NA     NA    Switzerland     SUI\n",
       "  Games       Year Season City     Sport              \n",
       "1 1924 Winter 1924 Winter Chamonix Ice Hockey         \n",
       "2 1924 Winter 1924 Winter Chamonix Curling            \n",
       "3 1924 Winter 1924 Winter Chamonix Ice Hockey         \n",
       "4 1924 Winter 1924 Winter Chamonix Curling            \n",
       "5 1924 Winter 1924 Winter Chamonix Bobsleigh          \n",
       "6 1924 Winter 1924 Winter Chamonix Military Ski Patrol\n",
       "  Event                                         Medal \n",
       "1 Ice Hockey Men's Ice Hockey                   Silver\n",
       "2 Curling Men's Curling                         Silver\n",
       "3 Ice Hockey Men's Ice Hockey                   Bronze\n",
       "4 Curling Men's Curling                         Bronze\n",
       "5 Bobsleigh Men's Four/Five                     Silver\n",
       "6 Military Ski Patrol Men's Military Ski Patrol Gold  "
      ]
     },
     "metadata": {},
     "output_type": "display_data"
    },
    {
     "data": {
      "text/html": [
       "<table class=\"dataframe\">\n",
       "<caption>A data.frame: 6 × 15</caption>\n",
       "<thead>\n",
       "\t<tr><th></th><th scope=col>ID</th><th scope=col>Name</th><th scope=col>Sex</th><th scope=col>Age</th><th scope=col>Height</th><th scope=col>Weight</th><th scope=col>Team</th><th scope=col>NOC</th><th scope=col>Games</th><th scope=col>Year</th><th scope=col>Season</th><th scope=col>City</th><th scope=col>Sport</th><th scope=col>Event</th><th scope=col>Medal</th></tr>\n",
       "\t<tr><th></th><th scope=col>&lt;int&gt;</th><th scope=col>&lt;chr&gt;</th><th scope=col>&lt;chr&gt;</th><th scope=col>&lt;int&gt;</th><th scope=col>&lt;int&gt;</th><th scope=col>&lt;dbl&gt;</th><th scope=col>&lt;chr&gt;</th><th scope=col>&lt;chr&gt;</th><th scope=col>&lt;chr&gt;</th><th scope=col>&lt;int&gt;</th><th scope=col>&lt;chr&gt;</th><th scope=col>&lt;chr&gt;</th><th scope=col>&lt;chr&gt;</th><th scope=col>&lt;chr&gt;</th><th scope=col>&lt;chr&gt;</th></tr>\n",
       "</thead>\n",
       "<tbody>\n",
       "\t<tr><th scope=row>1</th><td>12068</td><td>Arthur Charles Blake       </td><td>M</td><td>24</td><td> NA</td><td>NA</td><td>United States</td><td>USA</td><td>1896 Summer</td><td>1896</td><td>Summer</td><td>Athina</td><td>Athletics </td><td>Athletics Men's 1,500 metres         </td><td>Silver</td></tr>\n",
       "\t<tr><th scope=row>2</th><td>12563</td><td>Conrad Helmut Fritz Bcker  </td><td>M</td><td>25</td><td> NA</td><td>NA</td><td>Germany      </td><td>GER</td><td>1896 Summer</td><td>1896</td><td>Summer</td><td>Athina</td><td>Gymnastics</td><td>Gymnastics Men's Parallel Bars, Teams</td><td>Gold  </td></tr>\n",
       "\t<tr><th scope=row>3</th><td>12929</td><td>John Mary Pius Boland      </td><td>M</td><td>25</td><td> NA</td><td>NA</td><td>Great Britain</td><td>GBR</td><td>1896 Summer</td><td>1896</td><td>Summer</td><td>Athina</td><td>Tennis    </td><td>Tennis Men's Singles                 </td><td>Gold  </td></tr>\n",
       "\t<tr><th scope=row>4</th><td>16616</td><td>Thomas Edmund \"Tom\" Burke  </td><td>M</td><td>21</td><td>183</td><td>66</td><td>United States</td><td>USA</td><td>1896 Summer</td><td>1896</td><td>Summer</td><td>Athina</td><td>Athletics </td><td>Athletics Men's 100 metres           </td><td>Gold  </td></tr>\n",
       "\t<tr><th scope=row>5</th><td>17492</td><td>Eugne Henri Callot         </td><td>M</td><td>20</td><td> NA</td><td>NA</td><td>France       </td><td>FRA</td><td>1896 Summer</td><td>1896</td><td>Summer</td><td>Athina</td><td>Fencing   </td><td>Fencing Men's Foil, Individual       </td><td>Silver</td></tr>\n",
       "\t<tr><th scope=row>6</th><td>18785</td><td>Demetrius Emmanuel Casdagli</td><td>M</td><td>23</td><td> NA</td><td>NA</td><td>Greece       </td><td>GRE</td><td>1896 Summer</td><td>1896</td><td>Summer</td><td>Athina</td><td>Tennis    </td><td>Tennis Men's Singles                 </td><td>Silver</td></tr>\n",
       "</tbody>\n",
       "</table>\n"
      ],
      "text/latex": [
       "A data.frame: 6 × 15\n",
       "\\begin{tabular}{r|lllllllllllllll}\n",
       "  & ID & Name & Sex & Age & Height & Weight & Team & NOC & Games & Year & Season & City & Sport & Event & Medal\\\\\n",
       "  & <int> & <chr> & <chr> & <int> & <int> & <dbl> & <chr> & <chr> & <chr> & <int> & <chr> & <chr> & <chr> & <chr> & <chr>\\\\\n",
       "\\hline\n",
       "\t1 & 12068 & Arthur Charles Blake        & M & 24 &  NA & NA & United States & USA & 1896 Summer & 1896 & Summer & Athina & Athletics  & Athletics Men's 1,500 metres          & Silver\\\\\n",
       "\t2 & 12563 & Conrad Helmut Fritz Bcker   & M & 25 &  NA & NA & Germany       & GER & 1896 Summer & 1896 & Summer & Athina & Gymnastics & Gymnastics Men's Parallel Bars, Teams & Gold  \\\\\n",
       "\t3 & 12929 & John Mary Pius Boland       & M & 25 &  NA & NA & Great Britain & GBR & 1896 Summer & 1896 & Summer & Athina & Tennis     & Tennis Men's Singles                  & Gold  \\\\\n",
       "\t4 & 16616 & Thomas Edmund \"Tom\" Burke   & M & 21 & 183 & 66 & United States & USA & 1896 Summer & 1896 & Summer & Athina & Athletics  & Athletics Men's 100 metres            & Gold  \\\\\n",
       "\t5 & 17492 & Eugne Henri Callot          & M & 20 &  NA & NA & France        & FRA & 1896 Summer & 1896 & Summer & Athina & Fencing    & Fencing Men's Foil, Individual        & Silver\\\\\n",
       "\t6 & 18785 & Demetrius Emmanuel Casdagli & M & 23 &  NA & NA & Greece        & GRE & 1896 Summer & 1896 & Summer & Athina & Tennis     & Tennis Men's Singles                  & Silver\\\\\n",
       "\\end{tabular}\n"
      ],
      "text/markdown": [
       "\n",
       "A data.frame: 6 × 15\n",
       "\n",
       "| <!--/--> | ID &lt;int&gt; | Name &lt;chr&gt; | Sex &lt;chr&gt; | Age &lt;int&gt; | Height &lt;int&gt; | Weight &lt;dbl&gt; | Team &lt;chr&gt; | NOC &lt;chr&gt; | Games &lt;chr&gt; | Year &lt;int&gt; | Season &lt;chr&gt; | City &lt;chr&gt; | Sport &lt;chr&gt; | Event &lt;chr&gt; | Medal &lt;chr&gt; |\n",
       "|---|---|---|---|---|---|---|---|---|---|---|---|---|---|---|---|\n",
       "| 1 | 12068 | Arthur Charles Blake        | M | 24 |  NA | NA | United States | USA | 1896 Summer | 1896 | Summer | Athina | Athletics  | Athletics Men's 1,500 metres          | Silver |\n",
       "| 2 | 12563 | Conrad Helmut Fritz Bcker   | M | 25 |  NA | NA | Germany       | GER | 1896 Summer | 1896 | Summer | Athina | Gymnastics | Gymnastics Men's Parallel Bars, Teams | Gold   |\n",
       "| 3 | 12929 | John Mary Pius Boland       | M | 25 |  NA | NA | Great Britain | GBR | 1896 Summer | 1896 | Summer | Athina | Tennis     | Tennis Men's Singles                  | Gold   |\n",
       "| 4 | 16616 | Thomas Edmund \"Tom\" Burke   | M | 21 | 183 | 66 | United States | USA | 1896 Summer | 1896 | Summer | Athina | Athletics  | Athletics Men's 100 metres            | Gold   |\n",
       "| 5 | 17492 | Eugne Henri Callot          | M | 20 |  NA | NA | France        | FRA | 1896 Summer | 1896 | Summer | Athina | Fencing    | Fencing Men's Foil, Individual        | Silver |\n",
       "| 6 | 18785 | Demetrius Emmanuel Casdagli | M | 23 |  NA | NA | Greece        | GRE | 1896 Summer | 1896 | Summer | Athina | Tennis     | Tennis Men's Singles                  | Silver |\n",
       "\n"
      ],
      "text/plain": [
       "  ID    Name                        Sex Age Height Weight Team          NOC\n",
       "1 12068 Arthur Charles Blake        M   24   NA    NA     United States USA\n",
       "2 12563 Conrad Helmut Fritz Bcker   M   25   NA    NA     Germany       GER\n",
       "3 12929 John Mary Pius Boland       M   25   NA    NA     Great Britain GBR\n",
       "4 16616 Thomas Edmund \"Tom\" Burke   M   21  183    66     United States USA\n",
       "5 17492 Eugne Henri Callot          M   20   NA    NA     France        FRA\n",
       "6 18785 Demetrius Emmanuel Casdagli M   23   NA    NA     Greece        GRE\n",
       "  Games       Year Season City   Sport     \n",
       "1 1896 Summer 1896 Summer Athina Athletics \n",
       "2 1896 Summer 1896 Summer Athina Gymnastics\n",
       "3 1896 Summer 1896 Summer Athina Tennis    \n",
       "4 1896 Summer 1896 Summer Athina Athletics \n",
       "5 1896 Summer 1896 Summer Athina Fencing   \n",
       "6 1896 Summer 1896 Summer Athina Tennis    \n",
       "  Event                                 Medal \n",
       "1 Athletics Men's 1,500 metres          Silver\n",
       "2 Gymnastics Men's Parallel Bars, Teams Gold  \n",
       "3 Tennis Men's Singles                  Gold  \n",
       "4 Athletics Men's 100 metres            Gold  \n",
       "5 Fencing Men's Foil, Individual        Silver\n",
       "6 Tennis Men's Singles                  Silver"
      ]
     },
     "metadata": {},
     "output_type": "display_data"
    }
   ],
   "source": [
    "winter_df <- first_time_only %>% \n",
    "    filter(Season == \"Winter\")\n",
    "\n",
    "summer_df <- first_time_only %>% \n",
    "    filter(Season == \"Summer\")\n",
    "\n",
    "head(winter_df)\n",
    "head(summer_df)"
   ]
  },
  {
   "cell_type": "markdown",
   "id": "69d3c367-b082-43b5-93d1-da9f1b08ec55",
   "metadata": {},
   "source": [
    "## Calculations "
   ]
  },
  {
   "cell_type": "markdown",
   "id": "2f6219c3-1967-4a8f-99d0-ed964be1233a",
   "metadata": {},
   "source": [
    "If we are assuming that this dataset is 100% accurate and thus represent that entire population of all Olympic participants, then we could consider the dataset a population, and thus uncertainty would be 0%. However, in reality, if we were trying to gather this dataset ourselves, it is extremely unlikely as well as unfeasible to collect so many data points. Realistically, we would take a sample of this population, so we will will take an initial sample of 3000"
   ]
  },
  {
   "cell_type": "code",
   "execution_count": 5,
   "id": "6c4b66a6-74e5-4130-812f-eec1f7fed034",
   "metadata": {},
   "outputs": [
    {
     "data": {
      "text/html": [
       "<table class=\"dataframe\">\n",
       "<caption>A tibble: 6 × 15</caption>\n",
       "<thead>\n",
       "\t<tr><th scope=col>ID</th><th scope=col>Name</th><th scope=col>Sex</th><th scope=col>Age</th><th scope=col>Height</th><th scope=col>Weight</th><th scope=col>Team</th><th scope=col>NOC</th><th scope=col>Games</th><th scope=col>Year</th><th scope=col>Season</th><th scope=col>City</th><th scope=col>Sport</th><th scope=col>Event</th><th scope=col>Medal</th></tr>\n",
       "\t<tr><th scope=col>&lt;int&gt;</th><th scope=col>&lt;chr&gt;</th><th scope=col>&lt;chr&gt;</th><th scope=col>&lt;int&gt;</th><th scope=col>&lt;int&gt;</th><th scope=col>&lt;dbl&gt;</th><th scope=col>&lt;chr&gt;</th><th scope=col>&lt;chr&gt;</th><th scope=col>&lt;chr&gt;</th><th scope=col>&lt;int&gt;</th><th scope=col>&lt;chr&gt;</th><th scope=col>&lt;chr&gt;</th><th scope=col>&lt;chr&gt;</th><th scope=col>&lt;chr&gt;</th><th scope=col>&lt;chr&gt;</th></tr>\n",
       "</thead>\n",
       "<tbody>\n",
       "\t<tr><td>85481</td><td>Michael Neumayer          </td><td>M</td><td>31</td><td>180</td><td>60</td><td>Germany     </td><td>GER</td><td>2010 Winter</td><td>2010</td><td>Winter</td><td>Vancouver     </td><td>Ski Jumping              </td><td>Ski Jumping Men's Large Hill, Team                          </td><td>Silver</td></tr>\n",
       "\t<tr><td>25759</td><td>Vitaly Semyonovich Davydov</td><td>M</td><td>24</td><td>182</td><td>69</td><td>Soviet Union</td><td>URS</td><td>1964 Winter</td><td>1964</td><td>Winter</td><td>Innsbruck     </td><td>Ice Hockey               </td><td>Ice Hockey Men's Ice Hockey                                 </td><td>Gold  </td></tr>\n",
       "\t<tr><td> 3951</td><td>Lina Marie Andersson      </td><td>F</td><td>24</td><td>158</td><td>58</td><td>Sweden      </td><td>SWE</td><td>2006 Winter</td><td>2006</td><td>Winter</td><td>Torino        </td><td>Cross Country Skiing     </td><td>Cross Country Skiing Women's Team Sprint                    </td><td>Gold  </td></tr>\n",
       "\t<tr><td>44916</td><td>Veikko Johannes Hakulinen </td><td>M</td><td>27</td><td>173</td><td>66</td><td>Finland     </td><td>FIN</td><td>1952 Winter</td><td>1952</td><td>Winter</td><td>Oslo          </td><td>Cross Country Skiing     </td><td>Cross Country Skiing Men's 50 kilometres                    </td><td>Gold  </td></tr>\n",
       "\t<tr><td>42073</td><td>Amlie Goulet-Nadon        </td><td>F</td><td>19</td><td>165</td><td>57</td><td>Canada      </td><td>CAN</td><td>2002 Winter</td><td>2002</td><td>Winter</td><td>Salt Lake City</td><td>Short Track Speed Skating</td><td>Short Track Speed Skating Women's 3,000 metres Relay        </td><td>Bronze</td></tr>\n",
       "\t<tr><td>49094</td><td>Lukas Hofer               </td><td>M</td><td>24</td><td>175</td><td>62</td><td>Italy       </td><td>ITA</td><td>2014 Winter</td><td>2014</td><td>Winter</td><td>Sochi         </td><td>Biathlon                 </td><td>Biathlon Mixed 2 x 6 kilometres and 2 x 7.5 kilometres Relay</td><td>Bronze</td></tr>\n",
       "</tbody>\n",
       "</table>\n"
      ],
      "text/latex": [
       "A tibble: 6 × 15\n",
       "\\begin{tabular}{lllllllllllllll}\n",
       " ID & Name & Sex & Age & Height & Weight & Team & NOC & Games & Year & Season & City & Sport & Event & Medal\\\\\n",
       " <int> & <chr> & <chr> & <int> & <int> & <dbl> & <chr> & <chr> & <chr> & <int> & <chr> & <chr> & <chr> & <chr> & <chr>\\\\\n",
       "\\hline\n",
       "\t 85481 & Michael Neumayer           & M & 31 & 180 & 60 & Germany      & GER & 2010 Winter & 2010 & Winter & Vancouver      & Ski Jumping               & Ski Jumping Men's Large Hill, Team                           & Silver\\\\\n",
       "\t 25759 & Vitaly Semyonovich Davydov & M & 24 & 182 & 69 & Soviet Union & URS & 1964 Winter & 1964 & Winter & Innsbruck      & Ice Hockey                & Ice Hockey Men's Ice Hockey                                  & Gold  \\\\\n",
       "\t  3951 & Lina Marie Andersson       & F & 24 & 158 & 58 & Sweden       & SWE & 2006 Winter & 2006 & Winter & Torino         & Cross Country Skiing      & Cross Country Skiing Women's Team Sprint                     & Gold  \\\\\n",
       "\t 44916 & Veikko Johannes Hakulinen  & M & 27 & 173 & 66 & Finland      & FIN & 1952 Winter & 1952 & Winter & Oslo           & Cross Country Skiing      & Cross Country Skiing Men's 50 kilometres                     & Gold  \\\\\n",
       "\t 42073 & Amlie Goulet-Nadon         & F & 19 & 165 & 57 & Canada       & CAN & 2002 Winter & 2002 & Winter & Salt Lake City & Short Track Speed Skating & Short Track Speed Skating Women's 3,000 metres Relay         & Bronze\\\\\n",
       "\t 49094 & Lukas Hofer                & M & 24 & 175 & 62 & Italy        & ITA & 2014 Winter & 2014 & Winter & Sochi          & Biathlon                  & Biathlon Mixed 2 x 6 kilometres and 2 x 7.5 kilometres Relay & Bronze\\\\\n",
       "\\end{tabular}\n"
      ],
      "text/markdown": [
       "\n",
       "A tibble: 6 × 15\n",
       "\n",
       "| ID &lt;int&gt; | Name &lt;chr&gt; | Sex &lt;chr&gt; | Age &lt;int&gt; | Height &lt;int&gt; | Weight &lt;dbl&gt; | Team &lt;chr&gt; | NOC &lt;chr&gt; | Games &lt;chr&gt; | Year &lt;int&gt; | Season &lt;chr&gt; | City &lt;chr&gt; | Sport &lt;chr&gt; | Event &lt;chr&gt; | Medal &lt;chr&gt; |\n",
       "|---|---|---|---|---|---|---|---|---|---|---|---|---|---|---|\n",
       "| 85481 | Michael Neumayer           | M | 31 | 180 | 60 | Germany      | GER | 2010 Winter | 2010 | Winter | Vancouver      | Ski Jumping               | Ski Jumping Men's Large Hill, Team                           | Silver |\n",
       "| 25759 | Vitaly Semyonovich Davydov | M | 24 | 182 | 69 | Soviet Union | URS | 1964 Winter | 1964 | Winter | Innsbruck      | Ice Hockey                | Ice Hockey Men's Ice Hockey                                  | Gold   |\n",
       "|  3951 | Lina Marie Andersson       | F | 24 | 158 | 58 | Sweden       | SWE | 2006 Winter | 2006 | Winter | Torino         | Cross Country Skiing      | Cross Country Skiing Women's Team Sprint                     | Gold   |\n",
       "| 44916 | Veikko Johannes Hakulinen  | M | 27 | 173 | 66 | Finland      | FIN | 1952 Winter | 1952 | Winter | Oslo           | Cross Country Skiing      | Cross Country Skiing Men's 50 kilometres                     | Gold   |\n",
       "| 42073 | Amlie Goulet-Nadon         | F | 19 | 165 | 57 | Canada       | CAN | 2002 Winter | 2002 | Winter | Salt Lake City | Short Track Speed Skating | Short Track Speed Skating Women's 3,000 metres Relay         | Bronze |\n",
       "| 49094 | Lukas Hofer                | M | 24 | 175 | 62 | Italy        | ITA | 2014 Winter | 2014 | Winter | Sochi          | Biathlon                  | Biathlon Mixed 2 x 6 kilometres and 2 x 7.5 kilometres Relay | Bronze |\n",
       "\n"
      ],
      "text/plain": [
       "  ID    Name                       Sex Age Height Weight Team         NOC\n",
       "1 85481 Michael Neumayer           M   31  180    60     Germany      GER\n",
       "2 25759 Vitaly Semyonovich Davydov M   24  182    69     Soviet Union URS\n",
       "3  3951 Lina Marie Andersson       F   24  158    58     Sweden       SWE\n",
       "4 44916 Veikko Johannes Hakulinen  M   27  173    66     Finland      FIN\n",
       "5 42073 Amlie Goulet-Nadon         F   19  165    57     Canada       CAN\n",
       "6 49094 Lukas Hofer                M   24  175    62     Italy        ITA\n",
       "  Games       Year Season City           Sport                    \n",
       "1 2010 Winter 2010 Winter Vancouver      Ski Jumping              \n",
       "2 1964 Winter 1964 Winter Innsbruck      Ice Hockey               \n",
       "3 2006 Winter 2006 Winter Torino         Cross Country Skiing     \n",
       "4 1952 Winter 1952 Winter Oslo           Cross Country Skiing     \n",
       "5 2002 Winter 2002 Winter Salt Lake City Short Track Speed Skating\n",
       "6 2014 Winter 2014 Winter Sochi          Biathlon                 \n",
       "  Event                                                        Medal \n",
       "1 Ski Jumping Men's Large Hill, Team                           Silver\n",
       "2 Ice Hockey Men's Ice Hockey                                  Gold  \n",
       "3 Cross Country Skiing Women's Team Sprint                     Gold  \n",
       "4 Cross Country Skiing Men's 50 kilometres                     Gold  \n",
       "5 Short Track Speed Skating Women's 3,000 metres Relay         Bronze\n",
       "6 Biathlon Mixed 2 x 6 kilometres and 2 x 7.5 kilometres Relay Bronze"
      ]
     },
     "metadata": {},
     "output_type": "display_data"
    }
   ],
   "source": [
    "set.seed(42069)\n",
    "\n",
    "winter_sample <- winter_df %>% \n",
    "    rep_sample_n(size = 1000, reps = 1) %>% \n",
    "    subset(select = -(replicate))\n",
    "\n",
    "summer_sample <- summer_df %>% \n",
    "    rep_sample_n(size = 1000, reps = 1) %>% \n",
    "    subset(select = -(replicate))\n",
    "\n",
    "head(winter_sample)"
   ]
  },
  {
   "cell_type": "markdown",
   "id": "b1474984-1318-486f-869f-8d6694c3cb35",
   "metadata": {},
   "source": [
    "From this, we can calculate our estimates of the mean for each season"
   ]
  },
  {
   "cell_type": "code",
   "execution_count": 6,
   "id": "48752455-70f6-4cab-b89c-c9116e13193b",
   "metadata": {},
   "outputs": [
    {
     "name": "stdout",
     "output_type": "stream",
     "text": [
      "[1] \"Winter Mean Estimate: 25.165\"\n",
      "[1] \"Summer Mean Estimate: 25.078\"\n"
     ]
    }
   ],
   "source": [
    "winter_mean_estimate <- mean(winter_sample$Age)\n",
    "summer_mean_estimate <- mean(summer_sample$Age)\n",
    "\n",
    "print(paste(\"Winter Mean Estimate:\", winter_mean_estimate))\n",
    "print(paste(\"Summer Mean Estimate:\", summer_mean_estimate))"
   ]
  },
  {
   "cell_type": "markdown",
   "id": "d561ee36-c069-4c37-8aba-c1c920db79d4",
   "metadata": {
    "tags": []
   },
   "source": [
    "## Sampling"
   ]
  },
  {
   "cell_type": "markdown",
   "id": "a8a36b70-2558-4a4b-a366-94d191fdf751",
   "metadata": {},
   "source": [
    "Then, we'll perform bootstrapping or resampling without replacement to calculate uncertainty later on"
   ]
  },
  {
   "cell_type": "code",
   "execution_count": 7,
   "id": "b35fbc63-2a97-494e-8f30-a0ca0e1b5e23",
   "metadata": {},
   "outputs": [
    {
     "data": {
      "text/html": [
       "<table class=\"dataframe\">\n",
       "<caption>A grouped_df: 6 × 16</caption>\n",
       "<thead>\n",
       "\t<tr><th scope=col>replicate</th><th scope=col>ID</th><th scope=col>Name</th><th scope=col>Sex</th><th scope=col>Age</th><th scope=col>Height</th><th scope=col>Weight</th><th scope=col>Team</th><th scope=col>NOC</th><th scope=col>Games</th><th scope=col>Year</th><th scope=col>Season</th><th scope=col>City</th><th scope=col>Sport</th><th scope=col>Event</th><th scope=col>Medal</th></tr>\n",
       "\t<tr><th scope=col>&lt;int&gt;</th><th scope=col>&lt;int&gt;</th><th scope=col>&lt;chr&gt;</th><th scope=col>&lt;chr&gt;</th><th scope=col>&lt;int&gt;</th><th scope=col>&lt;int&gt;</th><th scope=col>&lt;dbl&gt;</th><th scope=col>&lt;chr&gt;</th><th scope=col>&lt;chr&gt;</th><th scope=col>&lt;chr&gt;</th><th scope=col>&lt;int&gt;</th><th scope=col>&lt;chr&gt;</th><th scope=col>&lt;chr&gt;</th><th scope=col>&lt;chr&gt;</th><th scope=col>&lt;chr&gt;</th><th scope=col>&lt;chr&gt;</th></tr>\n",
       "</thead>\n",
       "<tbody>\n",
       "\t<tr><td>1</td><td> 59251</td><td>Ilias Khatzipavlis               </td><td>M</td><td>23</td><td>183</td><td>92</td><td>Greece      </td><td>GRE</td><td>1972 Summer</td><td>1972</td><td>Summer</td><td>Munich        </td><td>Sailing   </td><td>Sailing Mixed One Person Dinghy                </td><td>Silver</td></tr>\n",
       "\t<tr><td>1</td><td> 26210</td><td>Regina Constance \"Reggie\" de Jong</td><td>F</td><td>16</td><td>168</td><td>55</td><td>Netherlands </td><td>NED</td><td>1980 Summer</td><td>1980</td><td>Summer</td><td>Moskva        </td><td>Swimming  </td><td>Swimming Women's 4 x 100 metres Freestyle Relay</td><td>Bronze</td></tr>\n",
       "\t<tr><td>1</td><td> 63441</td><td>Andriy Kovalenko                 </td><td>M</td><td>21</td><td>190</td><td>92</td><td>Unified Team</td><td>EUN</td><td>1992 Summer</td><td>1992</td><td>Summer</td><td>Barcelona     </td><td>Water Polo</td><td>Water Polo Men's Water Polo                    </td><td>Bronze</td></tr>\n",
       "\t<tr><td>1</td><td> 33767</td><td>Otto Fahr                        </td><td>M</td><td>19</td><td> NA</td><td>NA</td><td>Germany     </td><td>GER</td><td>1912 Summer</td><td>1912</td><td>Summer</td><td>Stockholm     </td><td>Swimming  </td><td>Swimming Men's 100 metres Backstroke           </td><td>Silver</td></tr>\n",
       "\t<tr><td>1</td><td> 69088</td><td>Melanie Leupolz                  </td><td>F</td><td>22</td><td>173</td><td>52</td><td>Germany     </td><td>GER</td><td>2016 Summer</td><td>2016</td><td>Summer</td><td>Rio de Janeiro</td><td>Football  </td><td>Football Women's Football                      </td><td>Gold  </td></tr>\n",
       "\t<tr><td>1</td><td>100141</td><td>Michael Reusch                   </td><td>M</td><td>22</td><td> NA</td><td>NA</td><td>Switzerland </td><td>SUI</td><td>1936 Summer</td><td>1936</td><td>Summer</td><td>Berlin        </td><td>Gymnastics</td><td>Gymnastics Men's Team All-Around               </td><td>Silver</td></tr>\n",
       "</tbody>\n",
       "</table>\n"
      ],
      "text/latex": [
       "A grouped\\_df: 6 × 16\n",
       "\\begin{tabular}{llllllllllllllll}\n",
       " replicate & ID & Name & Sex & Age & Height & Weight & Team & NOC & Games & Year & Season & City & Sport & Event & Medal\\\\\n",
       " <int> & <int> & <chr> & <chr> & <int> & <int> & <dbl> & <chr> & <chr> & <chr> & <int> & <chr> & <chr> & <chr> & <chr> & <chr>\\\\\n",
       "\\hline\n",
       "\t 1 &  59251 & Ilias Khatzipavlis                & M & 23 & 183 & 92 & Greece       & GRE & 1972 Summer & 1972 & Summer & Munich         & Sailing    & Sailing Mixed One Person Dinghy                 & Silver\\\\\n",
       "\t 1 &  26210 & Regina Constance \"Reggie\" de Jong & F & 16 & 168 & 55 & Netherlands  & NED & 1980 Summer & 1980 & Summer & Moskva         & Swimming   & Swimming Women's 4 x 100 metres Freestyle Relay & Bronze\\\\\n",
       "\t 1 &  63441 & Andriy Kovalenko                  & M & 21 & 190 & 92 & Unified Team & EUN & 1992 Summer & 1992 & Summer & Barcelona      & Water Polo & Water Polo Men's Water Polo                     & Bronze\\\\\n",
       "\t 1 &  33767 & Otto Fahr                         & M & 19 &  NA & NA & Germany      & GER & 1912 Summer & 1912 & Summer & Stockholm      & Swimming   & Swimming Men's 100 metres Backstroke            & Silver\\\\\n",
       "\t 1 &  69088 & Melanie Leupolz                   & F & 22 & 173 & 52 & Germany      & GER & 2016 Summer & 2016 & Summer & Rio de Janeiro & Football   & Football Women's Football                       & Gold  \\\\\n",
       "\t 1 & 100141 & Michael Reusch                    & M & 22 &  NA & NA & Switzerland  & SUI & 1936 Summer & 1936 & Summer & Berlin         & Gymnastics & Gymnastics Men's Team All-Around                & Silver\\\\\n",
       "\\end{tabular}\n"
      ],
      "text/markdown": [
       "\n",
       "A grouped_df: 6 × 16\n",
       "\n",
       "| replicate &lt;int&gt; | ID &lt;int&gt; | Name &lt;chr&gt; | Sex &lt;chr&gt; | Age &lt;int&gt; | Height &lt;int&gt; | Weight &lt;dbl&gt; | Team &lt;chr&gt; | NOC &lt;chr&gt; | Games &lt;chr&gt; | Year &lt;int&gt; | Season &lt;chr&gt; | City &lt;chr&gt; | Sport &lt;chr&gt; | Event &lt;chr&gt; | Medal &lt;chr&gt; |\n",
       "|---|---|---|---|---|---|---|---|---|---|---|---|---|---|---|---|\n",
       "| 1 |  59251 | Ilias Khatzipavlis                | M | 23 | 183 | 92 | Greece       | GRE | 1972 Summer | 1972 | Summer | Munich         | Sailing    | Sailing Mixed One Person Dinghy                 | Silver |\n",
       "| 1 |  26210 | Regina Constance \"Reggie\" de Jong | F | 16 | 168 | 55 | Netherlands  | NED | 1980 Summer | 1980 | Summer | Moskva         | Swimming   | Swimming Women's 4 x 100 metres Freestyle Relay | Bronze |\n",
       "| 1 |  63441 | Andriy Kovalenko                  | M | 21 | 190 | 92 | Unified Team | EUN | 1992 Summer | 1992 | Summer | Barcelona      | Water Polo | Water Polo Men's Water Polo                     | Bronze |\n",
       "| 1 |  33767 | Otto Fahr                         | M | 19 |  NA | NA | Germany      | GER | 1912 Summer | 1912 | Summer | Stockholm      | Swimming   | Swimming Men's 100 metres Backstroke            | Silver |\n",
       "| 1 |  69088 | Melanie Leupolz                   | F | 22 | 173 | 52 | Germany      | GER | 2016 Summer | 2016 | Summer | Rio de Janeiro | Football   | Football Women's Football                       | Gold   |\n",
       "| 1 | 100141 | Michael Reusch                    | M | 22 |  NA | NA | Switzerland  | SUI | 1936 Summer | 1936 | Summer | Berlin         | Gymnastics | Gymnastics Men's Team All-Around                | Silver |\n",
       "\n"
      ],
      "text/plain": [
       "  replicate ID     Name                              Sex Age Height Weight\n",
       "1 1          59251 Ilias Khatzipavlis                M   23  183    92    \n",
       "2 1          26210 Regina Constance \"Reggie\" de Jong F   16  168    55    \n",
       "3 1          63441 Andriy Kovalenko                  M   21  190    92    \n",
       "4 1          33767 Otto Fahr                         M   19   NA    NA    \n",
       "5 1          69088 Melanie Leupolz                   F   22  173    52    \n",
       "6 1         100141 Michael Reusch                    M   22   NA    NA    \n",
       "  Team         NOC Games       Year Season City           Sport     \n",
       "1 Greece       GRE 1972 Summer 1972 Summer Munich         Sailing   \n",
       "2 Netherlands  NED 1980 Summer 1980 Summer Moskva         Swimming  \n",
       "3 Unified Team EUN 1992 Summer 1992 Summer Barcelona      Water Polo\n",
       "4 Germany      GER 1912 Summer 1912 Summer Stockholm      Swimming  \n",
       "5 Germany      GER 2016 Summer 2016 Summer Rio de Janeiro Football  \n",
       "6 Switzerland  SUI 1936 Summer 1936 Summer Berlin         Gymnastics\n",
       "  Event                                           Medal \n",
       "1 Sailing Mixed One Person Dinghy                 Silver\n",
       "2 Swimming Women's 4 x 100 metres Freestyle Relay Bronze\n",
       "3 Water Polo Men's Water Polo                     Bronze\n",
       "4 Swimming Men's 100 metres Backstroke            Silver\n",
       "5 Football Women's Football                       Gold  \n",
       "6 Gymnastics Men's Team All-Around                Silver"
      ]
     },
     "metadata": {},
     "output_type": "display_data"
    }
   ],
   "source": [
    "set.seed(42069)\n",
    "\n",
    "winter_bootstrap <- winter_sample %>% \n",
    "    rep_sample_n(size = 1000, reps = 200, replace = TRUE)\n",
    "\n",
    "summer_bootstrap <- summer_sample %>% \n",
    "    rep_sample_n(size = 1000, reps = 200, replace = TRUE)\n",
    "\n",
    "\n",
    "head(summer_bootstrap)"
   ]
  },
  {
   "cell_type": "markdown",
   "id": "e1469939-5f93-471b-b743-d84034ba89ab",
   "metadata": {},
   "source": [
    "Now, we will calculate the sample mean for each sample."
   ]
  },
  {
   "cell_type": "code",
   "execution_count": 8,
   "id": "5f970633-fb8c-4da5-909b-2de14ebed2a8",
   "metadata": {},
   "outputs": [
    {
     "data": {
      "text/html": [
       "<table class=\"dataframe\">\n",
       "<caption>A tibble: 6 × 2</caption>\n",
       "<thead>\n",
       "\t<tr><th scope=col>replicate</th><th scope=col>mean_age</th></tr>\n",
       "\t<tr><th scope=col>&lt;int&gt;</th><th scope=col>&lt;dbl&gt;</th></tr>\n",
       "</thead>\n",
       "<tbody>\n",
       "\t<tr><td>1</td><td>25.113</td></tr>\n",
       "\t<tr><td>2</td><td>25.322</td></tr>\n",
       "\t<tr><td>3</td><td>25.205</td></tr>\n",
       "\t<tr><td>4</td><td>25.338</td></tr>\n",
       "\t<tr><td>5</td><td>25.214</td></tr>\n",
       "\t<tr><td>6</td><td>25.257</td></tr>\n",
       "</tbody>\n",
       "</table>\n"
      ],
      "text/latex": [
       "A tibble: 6 × 2\n",
       "\\begin{tabular}{ll}\n",
       " replicate & mean\\_age\\\\\n",
       " <int> & <dbl>\\\\\n",
       "\\hline\n",
       "\t 1 & 25.113\\\\\n",
       "\t 2 & 25.322\\\\\n",
       "\t 3 & 25.205\\\\\n",
       "\t 4 & 25.338\\\\\n",
       "\t 5 & 25.214\\\\\n",
       "\t 6 & 25.257\\\\\n",
       "\\end{tabular}\n"
      ],
      "text/markdown": [
       "\n",
       "A tibble: 6 × 2\n",
       "\n",
       "| replicate &lt;int&gt; | mean_age &lt;dbl&gt; |\n",
       "|---|---|\n",
       "| 1 | 25.113 |\n",
       "| 2 | 25.322 |\n",
       "| 3 | 25.205 |\n",
       "| 4 | 25.338 |\n",
       "| 5 | 25.214 |\n",
       "| 6 | 25.257 |\n",
       "\n"
      ],
      "text/plain": [
       "  replicate mean_age\n",
       "1 1         25.113  \n",
       "2 2         25.322  \n",
       "3 3         25.205  \n",
       "4 4         25.338  \n",
       "5 5         25.214  \n",
       "6 6         25.257  "
      ]
     },
     "metadata": {},
     "output_type": "display_data"
    },
    {
     "data": {
      "text/html": [
       "<table class=\"dataframe\">\n",
       "<caption>A tibble: 6 × 2</caption>\n",
       "<thead>\n",
       "\t<tr><th scope=col>replicate</th><th scope=col>mean_age</th></tr>\n",
       "\t<tr><th scope=col>&lt;int&gt;</th><th scope=col>&lt;dbl&gt;</th></tr>\n",
       "</thead>\n",
       "<tbody>\n",
       "\t<tr><td>1</td><td>24.733</td></tr>\n",
       "\t<tr><td>2</td><td>25.264</td></tr>\n",
       "\t<tr><td>3</td><td>25.140</td></tr>\n",
       "\t<tr><td>4</td><td>24.967</td></tr>\n",
       "\t<tr><td>5</td><td>25.240</td></tr>\n",
       "\t<tr><td>6</td><td>25.072</td></tr>\n",
       "</tbody>\n",
       "</table>\n"
      ],
      "text/latex": [
       "A tibble: 6 × 2\n",
       "\\begin{tabular}{ll}\n",
       " replicate & mean\\_age\\\\\n",
       " <int> & <dbl>\\\\\n",
       "\\hline\n",
       "\t 1 & 24.733\\\\\n",
       "\t 2 & 25.264\\\\\n",
       "\t 3 & 25.140\\\\\n",
       "\t 4 & 24.967\\\\\n",
       "\t 5 & 25.240\\\\\n",
       "\t 6 & 25.072\\\\\n",
       "\\end{tabular}\n"
      ],
      "text/markdown": [
       "\n",
       "A tibble: 6 × 2\n",
       "\n",
       "| replicate &lt;int&gt; | mean_age &lt;dbl&gt; |\n",
       "|---|---|\n",
       "| 1 | 24.733 |\n",
       "| 2 | 25.264 |\n",
       "| 3 | 25.140 |\n",
       "| 4 | 24.967 |\n",
       "| 5 | 25.240 |\n",
       "| 6 | 25.072 |\n",
       "\n"
      ],
      "text/plain": [
       "  replicate mean_age\n",
       "1 1         24.733  \n",
       "2 2         25.264  \n",
       "3 3         25.140  \n",
       "4 4         24.967  \n",
       "5 5         25.240  \n",
       "6 6         25.072  "
      ]
     },
     "metadata": {},
     "output_type": "display_data"
    }
   ],
   "source": [
    "winter_resampled_means <- winter_bootstrap %>% \n",
    "    group_by(replicate) %>% \n",
    "    summarize(mean_age = mean(Age))\n",
    "\n",
    "summer_resampled_means <- summer_bootstrap %>% \n",
    "    group_by(replicate) %>% \n",
    "    summarize(mean_age = mean(Age))\n",
    "\n",
    "head(winter_resampled_means)\n",
    "head(summer_resampled_means)"
   ]
  },
  {
   "cell_type": "markdown",
   "id": "59d48c81-d2d3-4c7a-962b-4ffb319cb271",
   "metadata": {},
   "source": [
    "## Visualizations"
   ]
  },
  {
   "cell_type": "markdown",
   "id": "b3ca5654-5ca4-40c5-9182-17e378e2c630",
   "metadata": {},
   "source": [
    "Let's first remind ourselves of our calculated estimates"
   ]
  },
  {
   "cell_type": "code",
   "execution_count": 9,
   "id": "92f5df3e-899d-4702-9a3f-49199bd27a1e",
   "metadata": {},
   "outputs": [
    {
     "data": {
      "text/html": [
       "<table class=\"dataframe\">\n",
       "<caption>A data.frame: 2 × 2</caption>\n",
       "<thead>\n",
       "\t<tr><th scope=col>name</th><th scope=col>values</th></tr>\n",
       "\t<tr><th scope=col>&lt;chr&gt;</th><th scope=col>&lt;dbl&gt;</th></tr>\n",
       "</thead>\n",
       "<tbody>\n",
       "\t<tr><td>Winter Mean Estimate</td><td>25.165</td></tr>\n",
       "\t<tr><td>Summer Mean Estimate</td><td>25.078</td></tr>\n",
       "</tbody>\n",
       "</table>\n"
      ],
      "text/latex": [
       "A data.frame: 2 × 2\n",
       "\\begin{tabular}{ll}\n",
       " name & values\\\\\n",
       " <chr> & <dbl>\\\\\n",
       "\\hline\n",
       "\t Winter Mean Estimate & 25.165\\\\\n",
       "\t Summer Mean Estimate & 25.078\\\\\n",
       "\\end{tabular}\n"
      ],
      "text/markdown": [
       "\n",
       "A data.frame: 2 × 2\n",
       "\n",
       "| name &lt;chr&gt; | values &lt;dbl&gt; |\n",
       "|---|---|\n",
       "| Winter Mean Estimate | 25.165 |\n",
       "| Summer Mean Estimate | 25.078 |\n",
       "\n"
      ],
      "text/plain": [
       "  name                 values\n",
       "1 Winter Mean Estimate 25.165\n",
       "2 Summer Mean Estimate 25.078"
      ]
     },
     "metadata": {},
     "output_type": "display_data"
    }
   ],
   "source": [
    "name <- c(\"Winter Mean Estimate\", \"Summer Mean Estimate\")\n",
    "values <- c(winter_mean_estimate, summer_mean_estimate)\n",
    "\n",
    "tab <- data.frame(name, values)\n",
    "tab"
   ]
  },
  {
   "cell_type": "code",
   "execution_count": 10,
   "id": "01dc4d24-227e-4273-8bc4-1b4f12e343a7",
   "metadata": {},
   "outputs": [],
   "source": [
    "# function to plot histogram with a vertical line indicating the mean, \n",
    "# with or without the Gaussian curve\n",
    "# @params: \n",
    "#     df: a dataframe\n",
    "#     col: column name (string)\n",
    "#     bin_width: int\n",
    "#     is_bellcurve: whether you want the bell curve option or not (bool),\n",
    "#                   default is FALSE\n",
    "# @return: a plot object so that you can customize the title and axis with labs()\n",
    "\n",
    "plot_histogram <- function(df, col, bin_width, is_bellcurve) {\n",
    "    plot <- df %>%\n",
    "        ggplot(aes(x=pull(df, col))) +\n",
    "        geom_vline(xintercept = mean(pull(df, col), color=\"blue\")) +\n",
    "        geom_text(aes(x = mean(pull(df, col)), \n",
    "                      y=0,\n",
    "                      label=mean(pull(df, col)),\n",
    "                      hjust=0,\n",
    "                      vjust=1),\n",
    "                  color=\"blue\") +\n",
    "        xlab(col)\n",
    "        \n",
    "    if (missing(is_bellcurve) || (is_bellcurve == FALSE)) {\n",
    "        plot <- plot + \n",
    "        geom_histogram(binwidth=bin_width, color=\"white\", alpha=0.5) +\n",
    "        ylab(\"Count\") +\n",
    "        ggtitle(paste0(\"Distribution of \", col))\n",
    "    } else {\n",
    "        plot <- plot +\n",
    "        geom_histogram(aes(y=..density..), binwidth=bin_width, color=\"white\", alpha=0.5) +\n",
    "        stat_function(fun=dnorm, color=\"red\", args=list(mean=mean(pull(df, col)), \n",
    "                                                        sd=sd(pull(df, col)))) +\n",
    "        ylab(\"Probability density\") +\n",
    "        ggtitle(paste0(\"Distribution of \", col))\n",
    "    }\n",
    "    \n",
    "    return (plot)\n",
    "}"
   ]
  },
  {
   "cell_type": "code",
   "execution_count": 11,
   "id": "a3eb4e0f-de94-4f2d-adf8-8ff8a9447799",
   "metadata": {},
   "outputs": [
    {
     "data": {
      "image/png": "[encoded data removed]",
      "text/plain": [
       "plot without title"
      ]
     },
     "metadata": {
      "image/png": {
       "height": 420,
       "width": 420
      }
     },
     "output_type": "display_data"
    }
   ],
   "source": [
    "plot_histogram(winter_resampled_means, \"mean_age\", 0.1, TRUE) + \n",
    "labs(x=\"Mean Age\", title=\"Bootstrap distribution of Mean Age for Winter Olympics\")"
   ]
  },
  {
   "cell_type": "code",
   "execution_count": 12,
   "id": "efb60a2a-d695-4ad5-810f-8cd9d093b48d",
   "metadata": {},
   "outputs": [
    {
     "data": {
      "image/png": "[encoded data removed]",
      "text/plain": [
       "plot without title"
      ]
     },
     "metadata": {
      "image/png": {
       "height": 420,
       "width": 420
      }
     },
     "output_type": "display_data"
    }
   ],
   "source": [
    "plot_histogram(summer_resampled_means, \"mean_age\", 0.1, TRUE) +\n",
    "labs(x=\"Mean Age\", title=\"Bootstrap distribution of Mean Age for Summer Olympics\")"
   ]
  }
 ],
 "metadata": {
  "kernelspec": {
   "display_name": "R",
   "language": "R",
   "name": "ir"
  },
  "language_info": {
   "codemirror_mode": "r",
   "file_extension": ".r",
   "mimetype": "text/x-r-source",
   "name": "R",
   "pygments_lexer": "r",
   "version": "4.0.3"
  }
 },
 "nbformat": 4,
 "nbformat_minor": 5
}
